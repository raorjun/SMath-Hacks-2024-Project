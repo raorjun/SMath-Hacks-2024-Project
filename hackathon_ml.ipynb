{
  "cells": [
    {
      "cell_type": "code",
      "execution_count": 1,
      "metadata": {
        "id": "TPG1EC7Tm3yl"
      },
      "outputs": [],
      "source": [
        "#Use the following commands to install the required packages\n",
        "#%pip install numpy\n",
        "#%pip install matplotlib\n",
        "#%pip install pandas\n",
        "#%pip install seaborn\n",
        "#%pip install altair\n",
        "#%pip install scikit-learn\n",
        "#%pip install streamlit\n",
        "\n",
        "import numpy as np\n",
        "import matplotlib.pyplot as plt\n",
        "import pandas as pd\n",
        "%matplotlib inline"
      ]
    },
    {
      "cell_type": "code",
      "execution_count": 2,
      "metadata": {
        "colab": {
          "base_uri": "https://localhost:8080/",
          "height": 206
        },
        "id": "7mO1pHHZnCy3",
        "outputId": "aacd72d0-ff12-46c1-9192-421c5780ea2c"
      },
      "outputs": [
        {
          "data": {
            "text/html": [
              "<div>\n",
              "<style scoped>\n",
              "    .dataframe tbody tr th:only-of-type {\n",
              "        vertical-align: middle;\n",
              "    }\n",
              "\n",
              "    .dataframe tbody tr th {\n",
              "        vertical-align: top;\n",
              "    }\n",
              "\n",
              "    .dataframe thead th {\n",
              "        text-align: right;\n",
              "    }\n",
              "</style>\n",
              "<table border=\"1\" class=\"dataframe\">\n",
              "  <thead>\n",
              "    <tr style=\"text-align: right;\">\n",
              "      <th></th>\n",
              "      <th>N</th>\n",
              "      <th>P</th>\n",
              "      <th>K</th>\n",
              "      <th>temperature</th>\n",
              "      <th>humidity</th>\n",
              "      <th>ph</th>\n",
              "      <th>rainfall</th>\n",
              "      <th>label</th>\n",
              "    </tr>\n",
              "  </thead>\n",
              "  <tbody>\n",
              "    <tr>\n",
              "      <th>0</th>\n",
              "      <td>90</td>\n",
              "      <td>42</td>\n",
              "      <td>43</td>\n",
              "      <td>20.879744</td>\n",
              "      <td>82.002744</td>\n",
              "      <td>6.502985</td>\n",
              "      <td>202.935536</td>\n",
              "      <td>rice</td>\n",
              "    </tr>\n",
              "    <tr>\n",
              "      <th>1</th>\n",
              "      <td>85</td>\n",
              "      <td>58</td>\n",
              "      <td>41</td>\n",
              "      <td>21.770462</td>\n",
              "      <td>80.319644</td>\n",
              "      <td>7.038096</td>\n",
              "      <td>226.655537</td>\n",
              "      <td>rice</td>\n",
              "    </tr>\n",
              "    <tr>\n",
              "      <th>2</th>\n",
              "      <td>60</td>\n",
              "      <td>55</td>\n",
              "      <td>44</td>\n",
              "      <td>23.004459</td>\n",
              "      <td>82.320763</td>\n",
              "      <td>7.840207</td>\n",
              "      <td>263.964248</td>\n",
              "      <td>rice</td>\n",
              "    </tr>\n",
              "    <tr>\n",
              "      <th>3</th>\n",
              "      <td>74</td>\n",
              "      <td>35</td>\n",
              "      <td>40</td>\n",
              "      <td>26.491096</td>\n",
              "      <td>80.158363</td>\n",
              "      <td>6.980401</td>\n",
              "      <td>242.864034</td>\n",
              "      <td>rice</td>\n",
              "    </tr>\n",
              "    <tr>\n",
              "      <th>4</th>\n",
              "      <td>78</td>\n",
              "      <td>42</td>\n",
              "      <td>42</td>\n",
              "      <td>20.130175</td>\n",
              "      <td>81.604873</td>\n",
              "      <td>7.628473</td>\n",
              "      <td>262.717340</td>\n",
              "      <td>rice</td>\n",
              "    </tr>\n",
              "  </tbody>\n",
              "</table>\n",
              "</div>"
            ],
            "text/plain": [
              "    N   P   K  temperature   humidity        ph    rainfall label\n",
              "0  90  42  43    20.879744  82.002744  6.502985  202.935536  rice\n",
              "1  85  58  41    21.770462  80.319644  7.038096  226.655537  rice\n",
              "2  60  55  44    23.004459  82.320763  7.840207  263.964248  rice\n",
              "3  74  35  40    26.491096  80.158363  6.980401  242.864034  rice\n",
              "4  78  42  42    20.130175  81.604873  7.628473  262.717340  rice"
            ]
          },
          "execution_count": 2,
          "metadata": {},
          "output_type": "execute_result"
        }
      ],
      "source": [
        "# Import the Data\n",
        "\n",
        "data = pd.read_csv(\"Crop_recommendation.csv\")\n",
        "\n",
        "data.head()"
      ]
    },
    {
      "cell_type": "code",
      "execution_count": 3,
      "metadata": {
        "colab": {
          "base_uri": "https://localhost:8080/"
        },
        "id": "Ixao8ysbopJn",
        "outputId": "9670807c-6947-4360-cde6-13768d1f5f97"
      },
      "outputs": [
        {
          "name": "stdout",
          "output_type": "stream",
          "text": [
            "label      \n",
            "apple          100\n",
            "banana         100\n",
            "rice           100\n",
            "pomegranate    100\n",
            "pigeonpeas     100\n",
            "papaya         100\n",
            "orange         100\n",
            "muskmelon      100\n",
            "mungbean       100\n",
            "mothbeans      100\n",
            "mango          100\n",
            "maize          100\n",
            "lentil         100\n",
            "kidneybeans    100\n",
            "jute           100\n",
            "grapes         100\n",
            "cotton         100\n",
            "coffee         100\n",
            "coconut        100\n",
            "chickpea       100\n",
            "blackgram      100\n",
            "watermelon     100\n",
            "Name: count, dtype: int64\n"
          ]
        }
      ],
      "source": [
        "# Prints the labels and their counts\n",
        "\n",
        "labels = data[['label']].value_counts()\n",
        "print(labels)"
      ]
    },
    {
      "cell_type": "code",
      "execution_count": 4,
      "metadata": {
        "id": "hCtPw8khpCcJ"
      },
      "outputs": [],
      "source": [
        "# making new columns of N, P, and K as ratios to each other (scaling this)\n",
        "data['Ratio N'] = data['N']/ (data['N']+ data['P'] + data['K'])\n",
        "data['Ratio P'] = data['P']/ (data['N']+ data['P'] + data['K'])\n",
        "data['Ratio K'] = data['K']/ (data['N']+ data['P'] + data['K'])"
      ]
    },
    {
      "cell_type": "code",
      "execution_count": 5,
      "metadata": {
        "colab": {
          "base_uri": "https://localhost:8080/",
          "height": 206
        },
        "id": "qUiZ3VgjqnUd",
        "outputId": "55066983-f6d7-40d6-8314-0f818db1129e"
      },
      "outputs": [
        {
          "data": {
            "text/html": [
              "<div>\n",
              "<style scoped>\n",
              "    .dataframe tbody tr th:only-of-type {\n",
              "        vertical-align: middle;\n",
              "    }\n",
              "\n",
              "    .dataframe tbody tr th {\n",
              "        vertical-align: top;\n",
              "    }\n",
              "\n",
              "    .dataframe thead th {\n",
              "        text-align: right;\n",
              "    }\n",
              "</style>\n",
              "<table border=\"1\" class=\"dataframe\">\n",
              "  <thead>\n",
              "    <tr style=\"text-align: right;\">\n",
              "      <th></th>\n",
              "      <th>N</th>\n",
              "      <th>P</th>\n",
              "      <th>K</th>\n",
              "      <th>temperature</th>\n",
              "      <th>humidity</th>\n",
              "      <th>ph</th>\n",
              "      <th>rainfall</th>\n",
              "      <th>label</th>\n",
              "      <th>Ratio N</th>\n",
              "      <th>Ratio P</th>\n",
              "      <th>Ratio K</th>\n",
              "    </tr>\n",
              "  </thead>\n",
              "  <tbody>\n",
              "    <tr>\n",
              "      <th>0</th>\n",
              "      <td>90</td>\n",
              "      <td>42</td>\n",
              "      <td>43</td>\n",
              "      <td>20.879744</td>\n",
              "      <td>82.002744</td>\n",
              "      <td>6.502985</td>\n",
              "      <td>202.935536</td>\n",
              "      <td>rice</td>\n",
              "      <td>0.514286</td>\n",
              "      <td>0.240000</td>\n",
              "      <td>0.245714</td>\n",
              "    </tr>\n",
              "    <tr>\n",
              "      <th>1</th>\n",
              "      <td>85</td>\n",
              "      <td>58</td>\n",
              "      <td>41</td>\n",
              "      <td>21.770462</td>\n",
              "      <td>80.319644</td>\n",
              "      <td>7.038096</td>\n",
              "      <td>226.655537</td>\n",
              "      <td>rice</td>\n",
              "      <td>0.461957</td>\n",
              "      <td>0.315217</td>\n",
              "      <td>0.222826</td>\n",
              "    </tr>\n",
              "    <tr>\n",
              "      <th>2</th>\n",
              "      <td>60</td>\n",
              "      <td>55</td>\n",
              "      <td>44</td>\n",
              "      <td>23.004459</td>\n",
              "      <td>82.320763</td>\n",
              "      <td>7.840207</td>\n",
              "      <td>263.964248</td>\n",
              "      <td>rice</td>\n",
              "      <td>0.377358</td>\n",
              "      <td>0.345912</td>\n",
              "      <td>0.276730</td>\n",
              "    </tr>\n",
              "    <tr>\n",
              "      <th>3</th>\n",
              "      <td>74</td>\n",
              "      <td>35</td>\n",
              "      <td>40</td>\n",
              "      <td>26.491096</td>\n",
              "      <td>80.158363</td>\n",
              "      <td>6.980401</td>\n",
              "      <td>242.864034</td>\n",
              "      <td>rice</td>\n",
              "      <td>0.496644</td>\n",
              "      <td>0.234899</td>\n",
              "      <td>0.268456</td>\n",
              "    </tr>\n",
              "    <tr>\n",
              "      <th>4</th>\n",
              "      <td>78</td>\n",
              "      <td>42</td>\n",
              "      <td>42</td>\n",
              "      <td>20.130175</td>\n",
              "      <td>81.604873</td>\n",
              "      <td>7.628473</td>\n",
              "      <td>262.717340</td>\n",
              "      <td>rice</td>\n",
              "      <td>0.481481</td>\n",
              "      <td>0.259259</td>\n",
              "      <td>0.259259</td>\n",
              "    </tr>\n",
              "  </tbody>\n",
              "</table>\n",
              "</div>"
            ],
            "text/plain": [
              "    N   P   K  temperature   humidity        ph    rainfall label   Ratio N  \\\n",
              "0  90  42  43    20.879744  82.002744  6.502985  202.935536  rice  0.514286   \n",
              "1  85  58  41    21.770462  80.319644  7.038096  226.655537  rice  0.461957   \n",
              "2  60  55  44    23.004459  82.320763  7.840207  263.964248  rice  0.377358   \n",
              "3  74  35  40    26.491096  80.158363  6.980401  242.864034  rice  0.496644   \n",
              "4  78  42  42    20.130175  81.604873  7.628473  262.717340  rice  0.481481   \n",
              "\n",
              "    Ratio P   Ratio K  \n",
              "0  0.240000  0.245714  \n",
              "1  0.315217  0.222826  \n",
              "2  0.345912  0.276730  \n",
              "3  0.234899  0.268456  \n",
              "4  0.259259  0.259259  "
            ]
          },
          "execution_count": 5,
          "metadata": {},
          "output_type": "execute_result"
        }
      ],
      "source": [
        "data.head()"
      ]
    },
    {
      "cell_type": "code",
      "execution_count": 6,
      "metadata": {
        "colab": {
          "base_uri": "https://localhost:8080/",
          "height": 256
        },
        "id": "V0AhcsCiqqxA",
        "outputId": "30aa9254-c9ec-4a8e-e984-dfd150ef395d"
      },
      "outputs": [
        {
          "data": {
            "text/html": [
              "<div>\n",
              "<style scoped>\n",
              "    .dataframe tbody tr th:only-of-type {\n",
              "        vertical-align: middle;\n",
              "    }\n",
              "\n",
              "    .dataframe tbody tr th {\n",
              "        vertical-align: top;\n",
              "    }\n",
              "\n",
              "    .dataframe thead th {\n",
              "        text-align: right;\n",
              "    }\n",
              "</style>\n",
              "<table border=\"1\" class=\"dataframe\">\n",
              "  <thead>\n",
              "    <tr style=\"text-align: right;\">\n",
              "      <th></th>\n",
              "      <th>N</th>\n",
              "      <th>P</th>\n",
              "      <th>K</th>\n",
              "      <th>temperature</th>\n",
              "      <th>humidity</th>\n",
              "      <th>ph</th>\n",
              "      <th>rainfall</th>\n",
              "      <th>Ratio N</th>\n",
              "      <th>Ratio P</th>\n",
              "      <th>Ratio K</th>\n",
              "      <th>...</th>\n",
              "      <th>label_mango</th>\n",
              "      <th>label_mothbeans</th>\n",
              "      <th>label_mungbean</th>\n",
              "      <th>label_muskmelon</th>\n",
              "      <th>label_orange</th>\n",
              "      <th>label_papaya</th>\n",
              "      <th>label_pigeonpeas</th>\n",
              "      <th>label_pomegranate</th>\n",
              "      <th>label_rice</th>\n",
              "      <th>label_watermelon</th>\n",
              "    </tr>\n",
              "  </thead>\n",
              "  <tbody>\n",
              "    <tr>\n",
              "      <th>0</th>\n",
              "      <td>90</td>\n",
              "      <td>42</td>\n",
              "      <td>43</td>\n",
              "      <td>20.879744</td>\n",
              "      <td>82.002744</td>\n",
              "      <td>6.502985</td>\n",
              "      <td>202.935536</td>\n",
              "      <td>0.514286</td>\n",
              "      <td>0.240000</td>\n",
              "      <td>0.245714</td>\n",
              "      <td>...</td>\n",
              "      <td>False</td>\n",
              "      <td>False</td>\n",
              "      <td>False</td>\n",
              "      <td>False</td>\n",
              "      <td>False</td>\n",
              "      <td>False</td>\n",
              "      <td>False</td>\n",
              "      <td>False</td>\n",
              "      <td>True</td>\n",
              "      <td>False</td>\n",
              "    </tr>\n",
              "    <tr>\n",
              "      <th>1</th>\n",
              "      <td>85</td>\n",
              "      <td>58</td>\n",
              "      <td>41</td>\n",
              "      <td>21.770462</td>\n",
              "      <td>80.319644</td>\n",
              "      <td>7.038096</td>\n",
              "      <td>226.655537</td>\n",
              "      <td>0.461957</td>\n",
              "      <td>0.315217</td>\n",
              "      <td>0.222826</td>\n",
              "      <td>...</td>\n",
              "      <td>False</td>\n",
              "      <td>False</td>\n",
              "      <td>False</td>\n",
              "      <td>False</td>\n",
              "      <td>False</td>\n",
              "      <td>False</td>\n",
              "      <td>False</td>\n",
              "      <td>False</td>\n",
              "      <td>True</td>\n",
              "      <td>False</td>\n",
              "    </tr>\n",
              "    <tr>\n",
              "      <th>2</th>\n",
              "      <td>60</td>\n",
              "      <td>55</td>\n",
              "      <td>44</td>\n",
              "      <td>23.004459</td>\n",
              "      <td>82.320763</td>\n",
              "      <td>7.840207</td>\n",
              "      <td>263.964248</td>\n",
              "      <td>0.377358</td>\n",
              "      <td>0.345912</td>\n",
              "      <td>0.276730</td>\n",
              "      <td>...</td>\n",
              "      <td>False</td>\n",
              "      <td>False</td>\n",
              "      <td>False</td>\n",
              "      <td>False</td>\n",
              "      <td>False</td>\n",
              "      <td>False</td>\n",
              "      <td>False</td>\n",
              "      <td>False</td>\n",
              "      <td>True</td>\n",
              "      <td>False</td>\n",
              "    </tr>\n",
              "    <tr>\n",
              "      <th>3</th>\n",
              "      <td>74</td>\n",
              "      <td>35</td>\n",
              "      <td>40</td>\n",
              "      <td>26.491096</td>\n",
              "      <td>80.158363</td>\n",
              "      <td>6.980401</td>\n",
              "      <td>242.864034</td>\n",
              "      <td>0.496644</td>\n",
              "      <td>0.234899</td>\n",
              "      <td>0.268456</td>\n",
              "      <td>...</td>\n",
              "      <td>False</td>\n",
              "      <td>False</td>\n",
              "      <td>False</td>\n",
              "      <td>False</td>\n",
              "      <td>False</td>\n",
              "      <td>False</td>\n",
              "      <td>False</td>\n",
              "      <td>False</td>\n",
              "      <td>True</td>\n",
              "      <td>False</td>\n",
              "    </tr>\n",
              "    <tr>\n",
              "      <th>4</th>\n",
              "      <td>78</td>\n",
              "      <td>42</td>\n",
              "      <td>42</td>\n",
              "      <td>20.130175</td>\n",
              "      <td>81.604873</td>\n",
              "      <td>7.628473</td>\n",
              "      <td>262.717340</td>\n",
              "      <td>0.481481</td>\n",
              "      <td>0.259259</td>\n",
              "      <td>0.259259</td>\n",
              "      <td>...</td>\n",
              "      <td>False</td>\n",
              "      <td>False</td>\n",
              "      <td>False</td>\n",
              "      <td>False</td>\n",
              "      <td>False</td>\n",
              "      <td>False</td>\n",
              "      <td>False</td>\n",
              "      <td>False</td>\n",
              "      <td>True</td>\n",
              "      <td>False</td>\n",
              "    </tr>\n",
              "  </tbody>\n",
              "</table>\n",
              "<p>5 rows × 32 columns</p>\n",
              "</div>"
            ],
            "text/plain": [
              "    N   P   K  temperature   humidity        ph    rainfall   Ratio N  \\\n",
              "0  90  42  43    20.879744  82.002744  6.502985  202.935536  0.514286   \n",
              "1  85  58  41    21.770462  80.319644  7.038096  226.655537  0.461957   \n",
              "2  60  55  44    23.004459  82.320763  7.840207  263.964248  0.377358   \n",
              "3  74  35  40    26.491096  80.158363  6.980401  242.864034  0.496644   \n",
              "4  78  42  42    20.130175  81.604873  7.628473  262.717340  0.481481   \n",
              "\n",
              "    Ratio P   Ratio K  ...  label_mango  label_mothbeans  label_mungbean  \\\n",
              "0  0.240000  0.245714  ...        False            False           False   \n",
              "1  0.315217  0.222826  ...        False            False           False   \n",
              "2  0.345912  0.276730  ...        False            False           False   \n",
              "3  0.234899  0.268456  ...        False            False           False   \n",
              "4  0.259259  0.259259  ...        False            False           False   \n",
              "\n",
              "   label_muskmelon  label_orange  label_papaya  label_pigeonpeas  \\\n",
              "0            False         False         False             False   \n",
              "1            False         False         False             False   \n",
              "2            False         False         False             False   \n",
              "3            False         False         False             False   \n",
              "4            False         False         False             False   \n",
              "\n",
              "   label_pomegranate  label_rice  label_watermelon  \n",
              "0              False        True             False  \n",
              "1              False        True             False  \n",
              "2              False        True             False  \n",
              "3              False        True             False  \n",
              "4              False        True             False  \n",
              "\n",
              "[5 rows x 32 columns]"
            ]
          },
          "execution_count": 6,
          "metadata": {},
          "output_type": "execute_result"
        }
      ],
      "source": [
        "# One hot-encode the label\n",
        "data_encode = pd.get_dummies(data, columns = ['label'])\n",
        "\n",
        "data_encode.head()"
      ]
    },
    {
      "cell_type": "code",
      "execution_count": 7,
      "metadata": {
        "id": "SdRh_qBBrHir"
      },
      "outputs": [],
      "source": [
        "def get_data(label_name):\n",
        "\tnew_data = data_encode[['N', 'K', 'P', 'temperature', 'humidity', 'ph', 'rainfall', 'Ratio N', 'Ratio P', 'Ratio K', label_name]]\n",
        "\treturn new_data\n"
      ]
    },
    {
      "cell_type": "code",
      "execution_count": 8,
      "metadata": {
        "colab": {
          "base_uri": "https://localhost:8080/",
          "height": 424
        },
        "id": "OxPKc8dCrfs4",
        "outputId": "6408a166-00ef-42f3-8961-632640654c78"
      },
      "outputs": [
        {
          "data": {
            "text/html": [
              "<div>\n",
              "<style scoped>\n",
              "    .dataframe tbody tr th:only-of-type {\n",
              "        vertical-align: middle;\n",
              "    }\n",
              "\n",
              "    .dataframe tbody tr th {\n",
              "        vertical-align: top;\n",
              "    }\n",
              "\n",
              "    .dataframe thead th {\n",
              "        text-align: right;\n",
              "    }\n",
              "</style>\n",
              "<table border=\"1\" class=\"dataframe\">\n",
              "  <thead>\n",
              "    <tr style=\"text-align: right;\">\n",
              "      <th></th>\n",
              "      <th>N</th>\n",
              "      <th>K</th>\n",
              "      <th>P</th>\n",
              "      <th>temperature</th>\n",
              "      <th>humidity</th>\n",
              "      <th>ph</th>\n",
              "      <th>rainfall</th>\n",
              "      <th>Ratio N</th>\n",
              "      <th>Ratio P</th>\n",
              "      <th>Ratio K</th>\n",
              "      <th>label_rice</th>\n",
              "    </tr>\n",
              "  </thead>\n",
              "  <tbody>\n",
              "    <tr>\n",
              "      <th>0</th>\n",
              "      <td>90</td>\n",
              "      <td>43</td>\n",
              "      <td>42</td>\n",
              "      <td>20.879744</td>\n",
              "      <td>82.002744</td>\n",
              "      <td>6.502985</td>\n",
              "      <td>202.935536</td>\n",
              "      <td>0.514286</td>\n",
              "      <td>0.240000</td>\n",
              "      <td>0.245714</td>\n",
              "      <td>True</td>\n",
              "    </tr>\n",
              "    <tr>\n",
              "      <th>1</th>\n",
              "      <td>85</td>\n",
              "      <td>41</td>\n",
              "      <td>58</td>\n",
              "      <td>21.770462</td>\n",
              "      <td>80.319644</td>\n",
              "      <td>7.038096</td>\n",
              "      <td>226.655537</td>\n",
              "      <td>0.461957</td>\n",
              "      <td>0.315217</td>\n",
              "      <td>0.222826</td>\n",
              "      <td>True</td>\n",
              "    </tr>\n",
              "    <tr>\n",
              "      <th>2</th>\n",
              "      <td>60</td>\n",
              "      <td>44</td>\n",
              "      <td>55</td>\n",
              "      <td>23.004459</td>\n",
              "      <td>82.320763</td>\n",
              "      <td>7.840207</td>\n",
              "      <td>263.964248</td>\n",
              "      <td>0.377358</td>\n",
              "      <td>0.345912</td>\n",
              "      <td>0.276730</td>\n",
              "      <td>True</td>\n",
              "    </tr>\n",
              "    <tr>\n",
              "      <th>3</th>\n",
              "      <td>74</td>\n",
              "      <td>40</td>\n",
              "      <td>35</td>\n",
              "      <td>26.491096</td>\n",
              "      <td>80.158363</td>\n",
              "      <td>6.980401</td>\n",
              "      <td>242.864034</td>\n",
              "      <td>0.496644</td>\n",
              "      <td>0.234899</td>\n",
              "      <td>0.268456</td>\n",
              "      <td>True</td>\n",
              "    </tr>\n",
              "    <tr>\n",
              "      <th>4</th>\n",
              "      <td>78</td>\n",
              "      <td>42</td>\n",
              "      <td>42</td>\n",
              "      <td>20.130175</td>\n",
              "      <td>81.604873</td>\n",
              "      <td>7.628473</td>\n",
              "      <td>262.717340</td>\n",
              "      <td>0.481481</td>\n",
              "      <td>0.259259</td>\n",
              "      <td>0.259259</td>\n",
              "      <td>True</td>\n",
              "    </tr>\n",
              "    <tr>\n",
              "      <th>...</th>\n",
              "      <td>...</td>\n",
              "      <td>...</td>\n",
              "      <td>...</td>\n",
              "      <td>...</td>\n",
              "      <td>...</td>\n",
              "      <td>...</td>\n",
              "      <td>...</td>\n",
              "      <td>...</td>\n",
              "      <td>...</td>\n",
              "      <td>...</td>\n",
              "      <td>...</td>\n",
              "    </tr>\n",
              "    <tr>\n",
              "      <th>195</th>\n",
              "      <td>90</td>\n",
              "      <td>24</td>\n",
              "      <td>57</td>\n",
              "      <td>18.928519</td>\n",
              "      <td>72.800861</td>\n",
              "      <td>6.158860</td>\n",
              "      <td>82.341629</td>\n",
              "      <td>0.526316</td>\n",
              "      <td>0.333333</td>\n",
              "      <td>0.140351</td>\n",
              "      <td>False</td>\n",
              "    </tr>\n",
              "    <tr>\n",
              "      <th>196</th>\n",
              "      <td>67</td>\n",
              "      <td>22</td>\n",
              "      <td>35</td>\n",
              "      <td>23.305468</td>\n",
              "      <td>63.246480</td>\n",
              "      <td>6.385684</td>\n",
              "      <td>108.760300</td>\n",
              "      <td>0.540323</td>\n",
              "      <td>0.282258</td>\n",
              "      <td>0.177419</td>\n",
              "      <td>False</td>\n",
              "    </tr>\n",
              "    <tr>\n",
              "      <th>197</th>\n",
              "      <td>60</td>\n",
              "      <td>19</td>\n",
              "      <td>54</td>\n",
              "      <td>18.748267</td>\n",
              "      <td>62.498785</td>\n",
              "      <td>6.417820</td>\n",
              "      <td>70.234016</td>\n",
              "      <td>0.451128</td>\n",
              "      <td>0.406015</td>\n",
              "      <td>0.142857</td>\n",
              "      <td>False</td>\n",
              "    </tr>\n",
              "    <tr>\n",
              "      <th>198</th>\n",
              "      <td>83</td>\n",
              "      <td>23</td>\n",
              "      <td>58</td>\n",
              "      <td>19.742133</td>\n",
              "      <td>59.662631</td>\n",
              "      <td>6.381202</td>\n",
              "      <td>65.508614</td>\n",
              "      <td>0.506098</td>\n",
              "      <td>0.353659</td>\n",
              "      <td>0.140244</td>\n",
              "      <td>False</td>\n",
              "    </tr>\n",
              "    <tr>\n",
              "      <th>199</th>\n",
              "      <td>83</td>\n",
              "      <td>19</td>\n",
              "      <td>57</td>\n",
              "      <td>25.730444</td>\n",
              "      <td>70.747393</td>\n",
              "      <td>6.877869</td>\n",
              "      <td>98.737713</td>\n",
              "      <td>0.522013</td>\n",
              "      <td>0.358491</td>\n",
              "      <td>0.119497</td>\n",
              "      <td>False</td>\n",
              "    </tr>\n",
              "  </tbody>\n",
              "</table>\n",
              "<p>200 rows × 11 columns</p>\n",
              "</div>"
            ],
            "text/plain": [
              "      N   K   P  temperature   humidity        ph    rainfall   Ratio N  \\\n",
              "0    90  43  42    20.879744  82.002744  6.502985  202.935536  0.514286   \n",
              "1    85  41  58    21.770462  80.319644  7.038096  226.655537  0.461957   \n",
              "2    60  44  55    23.004459  82.320763  7.840207  263.964248  0.377358   \n",
              "3    74  40  35    26.491096  80.158363  6.980401  242.864034  0.496644   \n",
              "4    78  42  42    20.130175  81.604873  7.628473  262.717340  0.481481   \n",
              "..   ..  ..  ..          ...        ...       ...         ...       ...   \n",
              "195  90  24  57    18.928519  72.800861  6.158860   82.341629  0.526316   \n",
              "196  67  22  35    23.305468  63.246480  6.385684  108.760300  0.540323   \n",
              "197  60  19  54    18.748267  62.498785  6.417820   70.234016  0.451128   \n",
              "198  83  23  58    19.742133  59.662631  6.381202   65.508614  0.506098   \n",
              "199  83  19  57    25.730444  70.747393  6.877869   98.737713  0.522013   \n",
              "\n",
              "      Ratio P   Ratio K  label_rice  \n",
              "0    0.240000  0.245714        True  \n",
              "1    0.315217  0.222826        True  \n",
              "2    0.345912  0.276730        True  \n",
              "3    0.234899  0.268456        True  \n",
              "4    0.259259  0.259259        True  \n",
              "..        ...       ...         ...  \n",
              "195  0.333333  0.140351       False  \n",
              "196  0.282258  0.177419       False  \n",
              "197  0.406015  0.142857       False  \n",
              "198  0.353659  0.140244       False  \n",
              "199  0.358491  0.119497       False  \n",
              "\n",
              "[200 rows x 11 columns]"
            ]
          },
          "execution_count": 8,
          "metadata": {},
          "output_type": "execute_result"
        }
      ],
      "source": [
        "data_rice = get_data('label_rice')\n",
        "data_rice.head(200)"
      ]
    },
    {
      "cell_type": "code",
      "execution_count": 9,
      "metadata": {
        "colab": {
          "base_uri": "https://localhost:8080/"
        },
        "id": "yHSLckiTsTAX",
        "outputId": "ea013bb9-d984-474d-bd29-847d42048cea"
      },
      "outputs": [
        {
          "data": {
            "text/plain": [
              "N                      70\n",
              "K                      45\n",
              "P                      68\n",
              "temperature     33.835086\n",
              "humidity        92.854702\n",
              "ph               6.991626\n",
              "rainfall       203.404403\n",
              "Ratio N          0.382514\n",
              "Ratio P          0.371585\n",
              "Ratio K          0.245902\n",
              "label_rice          False\n",
              "Name: 1705, dtype: object"
            ]
          },
          "execution_count": 9,
          "metadata": {},
          "output_type": "execute_result"
        }
      ],
      "source": [
        "data_rice.loc[1705]"
      ]
    },
    {
      "cell_type": "code",
      "execution_count": 10,
      "metadata": {
        "colab": {
          "base_uri": "https://localhost:8080/",
          "height": 424
        },
        "id": "Z0N_mab6r9eO",
        "outputId": "ff7f5003-c918-4e7d-de2b-c2ee20a2685f"
      },
      "outputs": [
        {
          "data": {
            "text/html": [
              "<div>\n",
              "<style scoped>\n",
              "    .dataframe tbody tr th:only-of-type {\n",
              "        vertical-align: middle;\n",
              "    }\n",
              "\n",
              "    .dataframe tbody tr th {\n",
              "        vertical-align: top;\n",
              "    }\n",
              "\n",
              "    .dataframe thead th {\n",
              "        text-align: right;\n",
              "    }\n",
              "</style>\n",
              "<table border=\"1\" class=\"dataframe\">\n",
              "  <thead>\n",
              "    <tr style=\"text-align: right;\">\n",
              "      <th></th>\n",
              "      <th>N</th>\n",
              "      <th>K</th>\n",
              "      <th>P</th>\n",
              "      <th>temperature</th>\n",
              "      <th>humidity</th>\n",
              "      <th>ph</th>\n",
              "      <th>rainfall</th>\n",
              "      <th>Ratio N</th>\n",
              "      <th>Ratio P</th>\n",
              "      <th>Ratio K</th>\n",
              "      <th>label_rice</th>\n",
              "    </tr>\n",
              "  </thead>\n",
              "  <tbody>\n",
              "    <tr>\n",
              "      <th>1367</th>\n",
              "      <td>91</td>\n",
              "      <td>46</td>\n",
              "      <td>12</td>\n",
              "      <td>24.644585</td>\n",
              "      <td>85.499382</td>\n",
              "      <td>6.343943</td>\n",
              "      <td>48.312190</td>\n",
              "      <td>0.610738</td>\n",
              "      <td>0.080537</td>\n",
              "      <td>0.308725</td>\n",
              "      <td>False</td>\n",
              "    </tr>\n",
              "    <tr>\n",
              "      <th>1105</th>\n",
              "      <td>20</td>\n",
              "      <td>35</td>\n",
              "      <td>19</td>\n",
              "      <td>34.177198</td>\n",
              "      <td>50.621616</td>\n",
              "      <td>6.113935</td>\n",
              "      <td>98.006880</td>\n",
              "      <td>0.270270</td>\n",
              "      <td>0.256757</td>\n",
              "      <td>0.472973</td>\n",
              "      <td>False</td>\n",
              "    </tr>\n",
              "    <tr>\n",
              "      <th>2055</th>\n",
              "      <td>67</td>\n",
              "      <td>40</td>\n",
              "      <td>41</td>\n",
              "      <td>25.848795</td>\n",
              "      <td>87.816617</td>\n",
              "      <td>7.333143</td>\n",
              "      <td>152.619440</td>\n",
              "      <td>0.452703</td>\n",
              "      <td>0.277027</td>\n",
              "      <td>0.270270</td>\n",
              "      <td>False</td>\n",
              "    </tr>\n",
              "    <tr>\n",
              "      <th>1509</th>\n",
              "      <td>1</td>\n",
              "      <td>199</td>\n",
              "      <td>124</td>\n",
              "      <td>23.710591</td>\n",
              "      <td>93.273924</td>\n",
              "      <td>5.658474</td>\n",
              "      <td>112.667659</td>\n",
              "      <td>0.003086</td>\n",
              "      <td>0.382716</td>\n",
              "      <td>0.614198</td>\n",
              "      <td>False</td>\n",
              "    </tr>\n",
              "    <tr>\n",
              "      <th>1057</th>\n",
              "      <td>102</td>\n",
              "      <td>54</td>\n",
              "      <td>73</td>\n",
              "      <td>26.402023</td>\n",
              "      <td>84.410076</td>\n",
              "      <td>5.720727</td>\n",
              "      <td>111.016226</td>\n",
              "      <td>0.445415</td>\n",
              "      <td>0.318777</td>\n",
              "      <td>0.235808</td>\n",
              "      <td>False</td>\n",
              "    </tr>\n",
              "    <tr>\n",
              "      <th>...</th>\n",
              "      <td>...</td>\n",
              "      <td>...</td>\n",
              "      <td>...</td>\n",
              "      <td>...</td>\n",
              "      <td>...</td>\n",
              "      <td>...</td>\n",
              "      <td>...</td>\n",
              "      <td>...</td>\n",
              "      <td>...</td>\n",
              "      <td>...</td>\n",
              "      <td>...</td>\n",
              "    </tr>\n",
              "    <tr>\n",
              "      <th>628</th>\n",
              "      <td>32</td>\n",
              "      <td>22</td>\n",
              "      <td>57</td>\n",
              "      <td>28.689985</td>\n",
              "      <td>87.504368</td>\n",
              "      <td>6.769416</td>\n",
              "      <td>44.565984</td>\n",
              "      <td>0.288288</td>\n",
              "      <td>0.513514</td>\n",
              "      <td>0.198198</td>\n",
              "      <td>False</td>\n",
              "    </tr>\n",
              "    <tr>\n",
              "      <th>1061</th>\n",
              "      <td>95</td>\n",
              "      <td>50</td>\n",
              "      <td>74</td>\n",
              "      <td>25.901131</td>\n",
              "      <td>80.471527</td>\n",
              "      <td>6.002482</td>\n",
              "      <td>110.103230</td>\n",
              "      <td>0.433790</td>\n",
              "      <td>0.337900</td>\n",
              "      <td>0.228311</td>\n",
              "      <td>False</td>\n",
              "    </tr>\n",
              "    <tr>\n",
              "      <th>905</th>\n",
              "      <td>31</td>\n",
              "      <td>38</td>\n",
              "      <td>25</td>\n",
              "      <td>24.962732</td>\n",
              "      <td>92.405014</td>\n",
              "      <td>6.497367</td>\n",
              "      <td>109.416919</td>\n",
              "      <td>0.329787</td>\n",
              "      <td>0.265957</td>\n",
              "      <td>0.404255</td>\n",
              "      <td>False</td>\n",
              "    </tr>\n",
              "    <tr>\n",
              "      <th>1082</th>\n",
              "      <td>90</td>\n",
              "      <td>55</td>\n",
              "      <td>86</td>\n",
              "      <td>27.962368</td>\n",
              "      <td>84.154036</td>\n",
              "      <td>5.644487</td>\n",
              "      <td>97.559867</td>\n",
              "      <td>0.389610</td>\n",
              "      <td>0.372294</td>\n",
              "      <td>0.238095</td>\n",
              "      <td>False</td>\n",
              "    </tr>\n",
              "    <tr>\n",
              "      <th>1259</th>\n",
              "      <td>17</td>\n",
              "      <td>195</td>\n",
              "      <td>136</td>\n",
              "      <td>41.207336</td>\n",
              "      <td>81.610510</td>\n",
              "      <td>6.389783</td>\n",
              "      <td>65.902275</td>\n",
              "      <td>0.048851</td>\n",
              "      <td>0.390805</td>\n",
              "      <td>0.560345</td>\n",
              "      <td>False</td>\n",
              "    </tr>\n",
              "  </tbody>\n",
              "</table>\n",
              "<p>200 rows × 11 columns</p>\n",
              "</div>"
            ],
            "text/plain": [
              "        N    K    P  temperature   humidity        ph    rainfall   Ratio N  \\\n",
              "1367   91   46   12    24.644585  85.499382  6.343943   48.312190  0.610738   \n",
              "1105   20   35   19    34.177198  50.621616  6.113935   98.006880  0.270270   \n",
              "2055   67   40   41    25.848795  87.816617  7.333143  152.619440  0.452703   \n",
              "1509    1  199  124    23.710591  93.273924  5.658474  112.667659  0.003086   \n",
              "1057  102   54   73    26.402023  84.410076  5.720727  111.016226  0.445415   \n",
              "...   ...  ...  ...          ...        ...       ...         ...       ...   \n",
              "628    32   22   57    28.689985  87.504368  6.769416   44.565984  0.288288   \n",
              "1061   95   50   74    25.901131  80.471527  6.002482  110.103230  0.433790   \n",
              "905    31   38   25    24.962732  92.405014  6.497367  109.416919  0.329787   \n",
              "1082   90   55   86    27.962368  84.154036  5.644487   97.559867  0.389610   \n",
              "1259   17  195  136    41.207336  81.610510  6.389783   65.902275  0.048851   \n",
              "\n",
              "       Ratio P   Ratio K  label_rice  \n",
              "1367  0.080537  0.308725       False  \n",
              "1105  0.256757  0.472973       False  \n",
              "2055  0.277027  0.270270       False  \n",
              "1509  0.382716  0.614198       False  \n",
              "1057  0.318777  0.235808       False  \n",
              "...        ...       ...         ...  \n",
              "628   0.513514  0.198198       False  \n",
              "1061  0.337900  0.228311       False  \n",
              "905   0.265957  0.404255       False  \n",
              "1082  0.372294  0.238095       False  \n",
              "1259  0.390805  0.560345       False  \n",
              "\n",
              "[200 rows x 11 columns]"
            ]
          },
          "execution_count": 10,
          "metadata": {},
          "output_type": "execute_result"
        }
      ],
      "source": [
        "data_rice = data_rice.sample(frac= 1)\n",
        "data_rice.head(200)"
      ]
    },
    {
      "cell_type": "code",
      "execution_count": 11,
      "metadata": {
        "colab": {
          "base_uri": "https://localhost:8080/",
          "height": 526
        },
        "id": "l0gbopmSsaIk",
        "outputId": "1e157ac2-0d9f-4b8b-d711-d7916d94da2d"
      },
      "outputs": [
        {
          "data": {
            "text/plain": [
              "<Axes: >"
            ]
          },
          "execution_count": 11,
          "metadata": {},
          "output_type": "execute_result"
        },
        {
          "data": {
            "image/png": "[encoded data removed]",
            "text/plain": [
              "<Figure size 640x480 with 2 Axes>"
            ]
          },
          "metadata": {},
          "output_type": "display_data"
        }
      ],
      "source": [
        "import seaborn as sns\n",
        "data_rice = data_rice.drop(['N', 'P', 'K'], axis = 1)\n",
        "corr_matrix = data_rice.corr()\n",
        "sns.heatmap(corr_matrix, annot= True)"
      ]
    },
    {
      "cell_type": "code",
      "execution_count": 12,
      "metadata": {
        "colab": {
          "base_uri": "https://localhost:8080/"
        },
        "id": "ePorv0HBttkL",
        "outputId": "c642c652-e318-4d69-88b7-46acdb5dd7c3"
      },
      "outputs": [
        {
          "data": {
            "text/plain": [
              "temperature    0\n",
              "humidity       0\n",
              "ph             0\n",
              "rainfall       0\n",
              "Ratio N        0\n",
              "Ratio P        0\n",
              "Ratio K        0\n",
              "label_rice     0\n",
              "dtype: int64"
            ]
          },
          "execution_count": 12,
          "metadata": {},
          "output_type": "execute_result"
        }
      ],
      "source": [
        "data_rice.isnull().sum()"
      ]
    },
    {
      "cell_type": "code",
      "execution_count": 13,
      "metadata": {
        "colab": {
          "base_uri": "https://localhost:8080/"
        },
        "id": "e3GCB17cty-E",
        "outputId": "df5e61bb-8648-4642-d6fb-c65b2008df0c"
      },
      "outputs": [
        {
          "data": {
            "text/plain": [
              "temperature    float64\n",
              "humidity       float64\n",
              "ph             float64\n",
              "rainfall       float64\n",
              "Ratio N        float64\n",
              "Ratio P        float64\n",
              "Ratio K        float64\n",
              "label_rice        bool\n",
              "dtype: object"
            ]
          },
          "execution_count": 13,
          "metadata": {},
          "output_type": "execute_result"
        }
      ],
      "source": [
        "data_rice.dtypes"
      ]
    },
    {
      "cell_type": "code",
      "execution_count": 14,
      "metadata": {
        "colab": {
          "base_uri": "https://localhost:8080/",
          "height": 300
        },
        "id": "EOTnw9ykt84S",
        "outputId": "dc2a5671-a65a-40f5-fe87-96c3e98b23d3"
      },
      "outputs": [
        {
          "data": {
            "text/html": [
              "<div>\n",
              "<style scoped>\n",
              "    .dataframe tbody tr th:only-of-type {\n",
              "        vertical-align: middle;\n",
              "    }\n",
              "\n",
              "    .dataframe tbody tr th {\n",
              "        vertical-align: top;\n",
              "    }\n",
              "\n",
              "    .dataframe thead th {\n",
              "        text-align: right;\n",
              "    }\n",
              "</style>\n",
              "<table border=\"1\" class=\"dataframe\">\n",
              "  <thead>\n",
              "    <tr style=\"text-align: right;\">\n",
              "      <th></th>\n",
              "      <th>temperature</th>\n",
              "      <th>humidity</th>\n",
              "      <th>ph</th>\n",
              "      <th>rainfall</th>\n",
              "      <th>Ratio N</th>\n",
              "      <th>Ratio P</th>\n",
              "      <th>Ratio K</th>\n",
              "    </tr>\n",
              "  </thead>\n",
              "  <tbody>\n",
              "    <tr>\n",
              "      <th>count</th>\n",
              "      <td>2200.000000</td>\n",
              "      <td>2200.000000</td>\n",
              "      <td>2200.000000</td>\n",
              "      <td>2200.000000</td>\n",
              "      <td>2200.000000</td>\n",
              "      <td>2200.000000</td>\n",
              "      <td>2200.000000</td>\n",
              "    </tr>\n",
              "    <tr>\n",
              "      <th>mean</th>\n",
              "      <td>25.616244</td>\n",
              "      <td>71.481779</td>\n",
              "      <td>6.469480</td>\n",
              "      <td>103.463655</td>\n",
              "      <td>0.340174</td>\n",
              "      <td>0.368562</td>\n",
              "      <td>0.291264</td>\n",
              "    </tr>\n",
              "    <tr>\n",
              "      <th>std</th>\n",
              "      <td>5.063749</td>\n",
              "      <td>22.263812</td>\n",
              "      <td>0.773938</td>\n",
              "      <td>54.958389</td>\n",
              "      <td>0.196864</td>\n",
              "      <td>0.171094</td>\n",
              "      <td>0.144400</td>\n",
              "    </tr>\n",
              "    <tr>\n",
              "      <th>min</th>\n",
              "      <td>8.825675</td>\n",
              "      <td>14.258040</td>\n",
              "      <td>3.504752</td>\n",
              "      <td>20.211267</td>\n",
              "      <td>0.000000</td>\n",
              "      <td>0.027933</td>\n",
              "      <td>0.075000</td>\n",
              "    </tr>\n",
              "    <tr>\n",
              "      <th>25%</th>\n",
              "      <td>22.769375</td>\n",
              "      <td>60.261953</td>\n",
              "      <td>5.971693</td>\n",
              "      <td>64.551686</td>\n",
              "      <td>0.178947</td>\n",
              "      <td>0.254058</td>\n",
              "      <td>0.184372</td>\n",
              "    </tr>\n",
              "    <tr>\n",
              "      <th>50%</th>\n",
              "      <td>25.598693</td>\n",
              "      <td>80.473146</td>\n",
              "      <td>6.425045</td>\n",
              "      <td>94.867624</td>\n",
              "      <td>0.329599</td>\n",
              "      <td>0.356432</td>\n",
              "      <td>0.250000</td>\n",
              "    </tr>\n",
              "    <tr>\n",
              "      <th>75%</th>\n",
              "      <td>28.561654</td>\n",
              "      <td>89.948771</td>\n",
              "      <td>6.923643</td>\n",
              "      <td>124.267508</td>\n",
              "      <td>0.506192</td>\n",
              "      <td>0.486839</td>\n",
              "      <td>0.368903</td>\n",
              "    </tr>\n",
              "    <tr>\n",
              "      <th>max</th>\n",
              "      <td>43.675493</td>\n",
              "      <td>99.981876</td>\n",
              "      <td>9.935091</td>\n",
              "      <td>298.560117</td>\n",
              "      <td>0.735450</td>\n",
              "      <td>0.822917</td>\n",
              "      <td>0.878049</td>\n",
              "    </tr>\n",
              "  </tbody>\n",
              "</table>\n",
              "</div>"
            ],
            "text/plain": [
              "       temperature     humidity           ph     rainfall      Ratio N  \\\n",
              "count  2200.000000  2200.000000  2200.000000  2200.000000  2200.000000   \n",
              "mean     25.616244    71.481779     6.469480   103.463655     0.340174   \n",
              "std       5.063749    22.263812     0.773938    54.958389     0.196864   \n",
              "min       8.825675    14.258040     3.504752    20.211267     0.000000   \n",
              "25%      22.769375    60.261953     5.971693    64.551686     0.178947   \n",
              "50%      25.598693    80.473146     6.425045    94.867624     0.329599   \n",
              "75%      28.561654    89.948771     6.923643   124.267508     0.506192   \n",
              "max      43.675493    99.981876     9.935091   298.560117     0.735450   \n",
              "\n",
              "           Ratio P      Ratio K  \n",
              "count  2200.000000  2200.000000  \n",
              "mean      0.368562     0.291264  \n",
              "std       0.171094     0.144400  \n",
              "min       0.027933     0.075000  \n",
              "25%       0.254058     0.184372  \n",
              "50%       0.356432     0.250000  \n",
              "75%       0.486839     0.368903  \n",
              "max       0.822917     0.878049  "
            ]
          },
          "execution_count": 14,
          "metadata": {},
          "output_type": "execute_result"
        }
      ],
      "source": [
        "data_rice.describe()"
      ]
    },
    {
      "cell_type": "code",
      "execution_count": 15,
      "metadata": {
        "id": "nbRhChlquNef"
      },
      "outputs": [],
      "source": [
        "#Import Modules for Machine Learning\n",
        "from sklearn.preprocessing import StandardScaler, OneHotEncoder\n",
        "from sklearn.linear_model import LogisticRegression\n",
        "from sklearn.model_selection import train_test_split\n",
        "from sklearn.metrics import accuracy_score\n",
        "\n",
        "\n",
        "y = data_rice[['label_rice']]\n",
        "x = data_rice.drop(['label_rice'], axis = 1)\n",
        "\n",
        "x_train, x_test, y_train, y_test = train_test_split(x, y, train_size = 0.75, random_state = 42)\n",
        "\n",
        "\n"
      ]
    },
    {
      "cell_type": "code",
      "execution_count": 16,
      "metadata": {
        "colab": {
          "base_uri": "https://localhost:8080/"
        },
        "id": "bda8K_Pyye84",
        "outputId": "f0cd14a6-1c67-4538-c66d-5b00e1b549de"
      },
      "outputs": [
        {
          "data": {
            "text/plain": [
              "((1650, 7), (1650, 1))"
            ]
          },
          "execution_count": 16,
          "metadata": {},
          "output_type": "execute_result"
        }
      ],
      "source": [
        "x_train.shape, y_train.shape"
      ]
    },
    {
      "cell_type": "code",
      "execution_count": 17,
      "metadata": {
        "id": "ub6nVQd8y7K6"
      },
      "outputs": [],
      "source": [
        "from sklearn.preprocessing import MinMaxScaler\n",
        "\n",
        "scaler = MinMaxScaler()\n",
        "\n",
        "x_train = scaler.fit_transform(x_train)\n",
        "\n",
        "x_test = scaler.transform(x_test)"
      ]
    },
    {
      "cell_type": "code",
      "execution_count": 18,
      "metadata": {
        "colab": {
          "base_uri": "https://localhost:8080/",
          "height": 129
        },
        "id": "LpjoQH5NzC0t",
        "outputId": "09f25fa1-cc35-4d76-f1f6-cb151ca3e202"
      },
      "outputs": [
        {
          "name": "stderr",
          "output_type": "stream",
          "text": [
            "c:\\Users\\raorj\\AppData\\Local\\Programs\\Python\\Python39\\lib\\site-packages\\sklearn\\utils\\validation.py:1300: DataConversionWarning: A column-vector y was passed when a 1d array was expected. Please change the shape of y to (n_samples, ), for example using ravel().\n",
            "  y = column_or_1d(y, warn=True)\n"
          ]
        },
        {
          "data": {
            "text/html": [
              "<style>#sk-container-id-1 {\n",
              "  /* Definition of color scheme common for light and dark mode */\n",
              "  --sklearn-color-text: black;\n",
              "  --sklearn-color-line: gray;\n",
              "  /* Definition of color scheme for unfitted estimators */\n",
              "  --sklearn-color-unfitted-level-0: #fff5e6;\n",
              "  --sklearn-color-unfitted-level-1: #f6e4d2;\n",
              "  --sklearn-color-unfitted-level-2: #ffe0b3;\n",
              "  --sklearn-color-unfitted-level-3: chocolate;\n",
              "  /* Definition of color scheme for fitted estimators */\n",
              "  --sklearn-color-fitted-level-0: #f0f8ff;\n",
              "  --sklearn-color-fitted-level-1: #d4ebff;\n",
              "  --sklearn-color-fitted-level-2: #b3dbfd;\n",
              "  --sklearn-color-fitted-level-3: cornflowerblue;\n",
              "\n",
              "  /* Specific color for light theme */\n",
              "  --sklearn-color-text-on-default-background: var(--sg-text-color, var(--theme-code-foreground, var(--jp-content-font-color1, black)));\n",
              "  --sklearn-color-background: var(--sg-background-color, var(--theme-background, var(--jp-layout-color0, white)));\n",
              "  --sklearn-color-border-box: var(--sg-text-color, var(--theme-code-foreground, var(--jp-content-font-color1, black)));\n",
              "  --sklearn-color-icon: #696969;\n",
              "\n",
              "  @media (prefers-color-scheme: dark) {\n",
              "    /* Redefinition of color scheme for dark theme */\n",
              "    --sklearn-color-text-on-default-background: var(--sg-text-color, var(--theme-code-foreground, var(--jp-content-font-color1, white)));\n",
              "    --sklearn-color-background: var(--sg-background-color, var(--theme-background, var(--jp-layout-color0, #111)));\n",
              "    --sklearn-color-border-box: var(--sg-text-color, var(--theme-code-foreground, var(--jp-content-font-color1, white)));\n",
              "    --sklearn-color-icon: #878787;\n",
              "  }\n",
              "}\n",
              "\n",
              "#sk-container-id-1 {\n",
              "  color: var(--sklearn-color-text);\n",
              "}\n",
              "\n",
              "#sk-container-id-1 pre {\n",
              "  padding: 0;\n",
              "}\n",
              "\n",
              "#sk-container-id-1 input.sk-hidden--visually {\n",
              "  border: 0;\n",
              "  clip: rect(1px 1px 1px 1px);\n",
              "  clip: rect(1px, 1px, 1px, 1px);\n",
              "  height: 1px;\n",
              "  margin: -1px;\n",
              "  overflow: hidden;\n",
              "  padding: 0;\n",
              "  position: absolute;\n",
              "  width: 1px;\n",
              "}\n",
              "\n",
              "#sk-container-id-1 div.sk-dashed-wrapped {\n",
              "  border: 1px dashed var(--sklearn-color-line);\n",
              "  margin: 0 0.4em 0.5em 0.4em;\n",
              "  box-sizing: border-box;\n",
              "  padding-bottom: 0.4em;\n",
              "  background-color: var(--sklearn-color-background);\n",
              "}\n",
              "\n",
              "#sk-container-id-1 div.sk-container {\n",
              "  /* jupyter's `normalize.less` sets `[hidden] { display: none; }`\n",
              "     but bootstrap.min.css set `[hidden] { display: none !important; }`\n",
              "     so we also need the `!important` here to be able to override the\n",
              "     default hidden behavior on the sphinx rendered scikit-learn.org.\n",
              "     See: https://github.com/scikit-learn/scikit-learn/issues/21755 */\n",
              "  display: inline-block !important;\n",
              "  position: relative;\n",
              "}\n",
              "\n",
              "#sk-container-id-1 div.sk-text-repr-fallback {\n",
              "  display: none;\n",
              "}\n",
              "\n",
              "div.sk-parallel-item,\n",
              "div.sk-serial,\n",
              "div.sk-item {\n",
              "  /* draw centered vertical line to link estimators */\n",
              "  background-image: linear-gradient(var(--sklearn-color-text-on-default-background), var(--sklearn-color-text-on-default-background));\n",
              "  background-size: 2px 100%;\n",
              "  background-repeat: no-repeat;\n",
              "  background-position: center center;\n",
              "}\n",
              "\n",
              "/* Parallel-specific style estimator block */\n",
              "\n",
              "#sk-container-id-1 div.sk-parallel-item::after {\n",
              "  content: \"\";\n",
              "  width: 100%;\n",
              "  border-bottom: 2px solid var(--sklearn-color-text-on-default-background);\n",
              "  flex-grow: 1;\n",
              "}\n",
              "\n",
              "#sk-container-id-1 div.sk-parallel {\n",
              "  display: flex;\n",
              "  align-items: stretch;\n",
              "  justify-content: center;\n",
              "  background-color: var(--sklearn-color-background);\n",
              "  position: relative;\n",
              "}\n",
              "\n",
              "#sk-container-id-1 div.sk-parallel-item {\n",
              "  display: flex;\n",
              "  flex-direction: column;\n",
              "}\n",
              "\n",
              "#sk-container-id-1 div.sk-parallel-item:first-child::after {\n",
              "  align-self: flex-end;\n",
              "  width: 50%;\n",
              "}\n",
              "\n",
              "#sk-container-id-1 div.sk-parallel-item:last-child::after {\n",
              "  align-self: flex-start;\n",
              "  width: 50%;\n",
              "}\n",
              "\n",
              "#sk-container-id-1 div.sk-parallel-item:only-child::after {\n",
              "  width: 0;\n",
              "}\n",
              "\n",
              "/* Serial-specific style estimator block */\n",
              "\n",
              "#sk-container-id-1 div.sk-serial {\n",
              "  display: flex;\n",
              "  flex-direction: column;\n",
              "  align-items: center;\n",
              "  background-color: var(--sklearn-color-background);\n",
              "  padding-right: 1em;\n",
              "  padding-left: 1em;\n",
              "}\n",
              "\n",
              "\n",
              "/* Toggleable style: style used for estimator/Pipeline/ColumnTransformer box that is\n",
              "clickable and can be expanded/collapsed.\n",
              "- Pipeline and ColumnTransformer use this feature and define the default style\n",
              "- Estimators will overwrite some part of the style using the `sk-estimator` class\n",
              "*/\n",
              "\n",
              "/* Pipeline and ColumnTransformer style (default) */\n",
              "\n",
              "#sk-container-id-1 div.sk-toggleable {\n",
              "  /* Default theme specific background. It is overwritten whether we have a\n",
              "  specific estimator or a Pipeline/ColumnTransformer */\n",
              "  background-color: var(--sklearn-color-background);\n",
              "}\n",
              "\n",
              "/* Toggleable label */\n",
              "#sk-container-id-1 label.sk-toggleable__label {\n",
              "  cursor: pointer;\n",
              "  display: block;\n",
              "  width: 100%;\n",
              "  margin-bottom: 0;\n",
              "  padding: 0.5em;\n",
              "  box-sizing: border-box;\n",
              "  text-align: center;\n",
              "}\n",
              "\n",
              "#sk-container-id-1 label.sk-toggleable__label-arrow:before {\n",
              "  /* Arrow on the left of the label */\n",
              "  content: \"▸\";\n",
              "  float: left;\n",
              "  margin-right: 0.25em;\n",
              "  color: var(--sklearn-color-icon);\n",
              "}\n",
              "\n",
              "#sk-container-id-1 label.sk-toggleable__label-arrow:hover:before {\n",
              "  color: var(--sklearn-color-text);\n",
              "}\n",
              "\n",
              "/* Toggleable content - dropdown */\n",
              "\n",
              "#sk-container-id-1 div.sk-toggleable__content {\n",
              "  max-height: 0;\n",
              "  max-width: 0;\n",
              "  overflow: hidden;\n",
              "  text-align: left;\n",
              "  /* unfitted */\n",
              "  background-color: var(--sklearn-color-unfitted-level-0);\n",
              "}\n",
              "\n",
              "#sk-container-id-1 div.sk-toggleable__content.fitted {\n",
              "  /* fitted */\n",
              "  background-color: var(--sklearn-color-fitted-level-0);\n",
              "}\n",
              "\n",
              "#sk-container-id-1 div.sk-toggleable__content pre {\n",
              "  margin: 0.2em;\n",
              "  border-radius: 0.25em;\n",
              "  color: var(--sklearn-color-text);\n",
              "  /* unfitted */\n",
              "  background-color: var(--sklearn-color-unfitted-level-0);\n",
              "}\n",
              "\n",
              "#sk-container-id-1 div.sk-toggleable__content.fitted pre {\n",
              "  /* unfitted */\n",
              "  background-color: var(--sklearn-color-fitted-level-0);\n",
              "}\n",
              "\n",
              "#sk-container-id-1 input.sk-toggleable__control:checked~div.sk-toggleable__content {\n",
              "  /* Expand drop-down */\n",
              "  max-height: 200px;\n",
              "  max-width: 100%;\n",
              "  overflow: auto;\n",
              "}\n",
              "\n",
              "#sk-container-id-1 input.sk-toggleable__control:checked~label.sk-toggleable__label-arrow:before {\n",
              "  content: \"▾\";\n",
              "}\n",
              "\n",
              "/* Pipeline/ColumnTransformer-specific style */\n",
              "\n",
              "#sk-container-id-1 div.sk-label input.sk-toggleable__control:checked~label.sk-toggleable__label {\n",
              "  color: var(--sklearn-color-text);\n",
              "  background-color: var(--sklearn-color-unfitted-level-2);\n",
              "}\n",
              "\n",
              "#sk-container-id-1 div.sk-label.fitted input.sk-toggleable__control:checked~label.sk-toggleable__label {\n",
              "  background-color: var(--sklearn-color-fitted-level-2);\n",
              "}\n",
              "\n",
              "/* Estimator-specific style */\n",
              "\n",
              "/* Colorize estimator box */\n",
              "#sk-container-id-1 div.sk-estimator input.sk-toggleable__control:checked~label.sk-toggleable__label {\n",
              "  /* unfitted */\n",
              "  background-color: var(--sklearn-color-unfitted-level-2);\n",
              "}\n",
              "\n",
              "#sk-container-id-1 div.sk-estimator.fitted input.sk-toggleable__control:checked~label.sk-toggleable__label {\n",
              "  /* fitted */\n",
              "  background-color: var(--sklearn-color-fitted-level-2);\n",
              "}\n",
              "\n",
              "#sk-container-id-1 div.sk-label label.sk-toggleable__label,\n",
              "#sk-container-id-1 div.sk-label label {\n",
              "  /* The background is the default theme color */\n",
              "  color: var(--sklearn-color-text-on-default-background);\n",
              "}\n",
              "\n",
              "/* On hover, darken the color of the background */\n",
              "#sk-container-id-1 div.sk-label:hover label.sk-toggleable__label {\n",
              "  color: var(--sklearn-color-text);\n",
              "  background-color: var(--sklearn-color-unfitted-level-2);\n",
              "}\n",
              "\n",
              "/* Label box, darken color on hover, fitted */\n",
              "#sk-container-id-1 div.sk-label.fitted:hover label.sk-toggleable__label.fitted {\n",
              "  color: var(--sklearn-color-text);\n",
              "  background-color: var(--sklearn-color-fitted-level-2);\n",
              "}\n",
              "\n",
              "/* Estimator label */\n",
              "\n",
              "#sk-container-id-1 div.sk-label label {\n",
              "  font-family: monospace;\n",
              "  font-weight: bold;\n",
              "  display: inline-block;\n",
              "  line-height: 1.2em;\n",
              "}\n",
              "\n",
              "#sk-container-id-1 div.sk-label-container {\n",
              "  text-align: center;\n",
              "}\n",
              "\n",
              "/* Estimator-specific */\n",
              "#sk-container-id-1 div.sk-estimator {\n",
              "  font-family: monospace;\n",
              "  border: 1px dotted var(--sklearn-color-border-box);\n",
              "  border-radius: 0.25em;\n",
              "  box-sizing: border-box;\n",
              "  margin-bottom: 0.5em;\n",
              "  /* unfitted */\n",
              "  background-color: var(--sklearn-color-unfitted-level-0);\n",
              "}\n",
              "\n",
              "#sk-container-id-1 div.sk-estimator.fitted {\n",
              "  /* fitted */\n",
              "  background-color: var(--sklearn-color-fitted-level-0);\n",
              "}\n",
              "\n",
              "/* on hover */\n",
              "#sk-container-id-1 div.sk-estimator:hover {\n",
              "  /* unfitted */\n",
              "  background-color: var(--sklearn-color-unfitted-level-2);\n",
              "}\n",
              "\n",
              "#sk-container-id-1 div.sk-estimator.fitted:hover {\n",
              "  /* fitted */\n",
              "  background-color: var(--sklearn-color-fitted-level-2);\n",
              "}\n",
              "\n",
              "/* Specification for estimator info (e.g. \"i\" and \"?\") */\n",
              "\n",
              "/* Common style for \"i\" and \"?\" */\n",
              "\n",
              ".sk-estimator-doc-link,\n",
              "a:link.sk-estimator-doc-link,\n",
              "a:visited.sk-estimator-doc-link {\n",
              "  float: right;\n",
              "  font-size: smaller;\n",
              "  line-height: 1em;\n",
              "  font-family: monospace;\n",
              "  background-color: var(--sklearn-color-background);\n",
              "  border-radius: 1em;\n",
              "  height: 1em;\n",
              "  width: 1em;\n",
              "  text-decoration: none !important;\n",
              "  margin-left: 1ex;\n",
              "  /* unfitted */\n",
              "  border: var(--sklearn-color-unfitted-level-1) 1pt solid;\n",
              "  color: var(--sklearn-color-unfitted-level-1);\n",
              "}\n",
              "\n",
              ".sk-estimator-doc-link.fitted,\n",
              "a:link.sk-estimator-doc-link.fitted,\n",
              "a:visited.sk-estimator-doc-link.fitted {\n",
              "  /* fitted */\n",
              "  border: var(--sklearn-color-fitted-level-1) 1pt solid;\n",
              "  color: var(--sklearn-color-fitted-level-1);\n",
              "}\n",
              "\n",
              "/* On hover */\n",
              "div.sk-estimator:hover .sk-estimator-doc-link:hover,\n",
              ".sk-estimator-doc-link:hover,\n",
              "div.sk-label-container:hover .sk-estimator-doc-link:hover,\n",
              ".sk-estimator-doc-link:hover {\n",
              "  /* unfitted */\n",
              "  background-color: var(--sklearn-color-unfitted-level-3);\n",
              "  color: var(--sklearn-color-background);\n",
              "  text-decoration: none;\n",
              "}\n",
              "\n",
              "div.sk-estimator.fitted:hover .sk-estimator-doc-link.fitted:hover,\n",
              ".sk-estimator-doc-link.fitted:hover,\n",
              "div.sk-label-container:hover .sk-estimator-doc-link.fitted:hover,\n",
              ".sk-estimator-doc-link.fitted:hover {\n",
              "  /* fitted */\n",
              "  background-color: var(--sklearn-color-fitted-level-3);\n",
              "  color: var(--sklearn-color-background);\n",
              "  text-decoration: none;\n",
              "}\n",
              "\n",
              "/* Span, style for the box shown on hovering the info icon */\n",
              ".sk-estimator-doc-link span {\n",
              "  display: none;\n",
              "  z-index: 9999;\n",
              "  position: relative;\n",
              "  font-weight: normal;\n",
              "  right: .2ex;\n",
              "  padding: .5ex;\n",
              "  margin: .5ex;\n",
              "  width: min-content;\n",
              "  min-width: 20ex;\n",
              "  max-width: 50ex;\n",
              "  color: var(--sklearn-color-text);\n",
              "  box-shadow: 2pt 2pt 4pt #999;\n",
              "  /* unfitted */\n",
              "  background: var(--sklearn-color-unfitted-level-0);\n",
              "  border: .5pt solid var(--sklearn-color-unfitted-level-3);\n",
              "}\n",
              "\n",
              ".sk-estimator-doc-link.fitted span {\n",
              "  /* fitted */\n",
              "  background: var(--sklearn-color-fitted-level-0);\n",
              "  border: var(--sklearn-color-fitted-level-3);\n",
              "}\n",
              "\n",
              ".sk-estimator-doc-link:hover span {\n",
              "  display: block;\n",
              "}\n",
              "\n",
              "/* \"?\"-specific style due to the `<a>` HTML tag */\n",
              "\n",
              "#sk-container-id-1 a.estimator_doc_link {\n",
              "  float: right;\n",
              "  font-size: 1rem;\n",
              "  line-height: 1em;\n",
              "  font-family: monospace;\n",
              "  background-color: var(--sklearn-color-background);\n",
              "  border-radius: 1rem;\n",
              "  height: 1rem;\n",
              "  width: 1rem;\n",
              "  text-decoration: none;\n",
              "  /* unfitted */\n",
              "  color: var(--sklearn-color-unfitted-level-1);\n",
              "  border: var(--sklearn-color-unfitted-level-1) 1pt solid;\n",
              "}\n",
              "\n",
              "#sk-container-id-1 a.estimator_doc_link.fitted {\n",
              "  /* fitted */\n",
              "  border: var(--sklearn-color-fitted-level-1) 1pt solid;\n",
              "  color: var(--sklearn-color-fitted-level-1);\n",
              "}\n",
              "\n",
              "/* On hover */\n",
              "#sk-container-id-1 a.estimator_doc_link:hover {\n",
              "  /* unfitted */\n",
              "  background-color: var(--sklearn-color-unfitted-level-3);\n",
              "  color: var(--sklearn-color-background);\n",
              "  text-decoration: none;\n",
              "}\n",
              "\n",
              "#sk-container-id-1 a.estimator_doc_link.fitted:hover {\n",
              "  /* fitted */\n",
              "  background-color: var(--sklearn-color-fitted-level-3);\n",
              "}\n",
              "</style><div id=\"sk-container-id-1\" class=\"sk-top-container\"><div class=\"sk-text-repr-fallback\"><pre>LogisticRegression(random_state=0, solver=&#x27;liblinear&#x27;)</pre><b>In a Jupyter environment, please rerun this cell to show the HTML representation or trust the notebook. <br />On GitHub, the HTML representation is unable to render, please try loading this page with nbviewer.org.</b></div><div class=\"sk-container\" hidden><div class=\"sk-item\"><div class=\"sk-estimator fitted sk-toggleable\"><input class=\"sk-toggleable__control sk-hidden--visually\" id=\"sk-estimator-id-1\" type=\"checkbox\" checked><label for=\"sk-estimator-id-1\" class=\"sk-toggleable__label fitted sk-toggleable__label-arrow fitted\">&nbsp;&nbsp;LogisticRegression<a class=\"sk-estimator-doc-link fitted\" rel=\"noreferrer\" target=\"_blank\" href=\"https://scikit-learn.org/1.4/modules/generated/sklearn.linear_model.LogisticRegression.html\">?<span>Documentation for LogisticRegression</span></a><span class=\"sk-estimator-doc-link fitted\">i<span>Fitted</span></span></label><div class=\"sk-toggleable__content fitted\"><pre>LogisticRegression(random_state=0, solver=&#x27;liblinear&#x27;)</pre></div> </div></div></div></div>"
            ],
            "text/plain": [
              "LogisticRegression(random_state=0, solver='liblinear')"
            ]
          },
          "execution_count": 18,
          "metadata": {},
          "output_type": "execute_result"
        }
      ],
      "source": [
        "# train a logistic regression model on the training set\n",
        "from sklearn.linear_model import LogisticRegression\n",
        "\n",
        "\n",
        "# instantiate the model\n",
        "logreg = LogisticRegression(solver='liblinear', random_state=0)\n",
        "\n",
        "\n",
        "# fit the model\n",
        "logreg.fit(x_train, y_train)"
      ]
    },
    {
      "cell_type": "code",
      "execution_count": 19,
      "metadata": {
        "colab": {
          "base_uri": "https://localhost:8080/"
        },
        "id": "xyN8kZA5zlCw",
        "outputId": "e7682bc9-9fc0-4db5-eeff-1c2ef5ecbeda"
      },
      "outputs": [
        {
          "data": {
            "text/plain": [
              "0.9781818181818182"
            ]
          },
          "execution_count": 19,
          "metadata": {},
          "output_type": "execute_result"
        }
      ],
      "source": [
        "logreg.score(x_test, y_test)"
      ]
    },
    {
      "cell_type": "code",
      "execution_count": 20,
      "metadata": {
        "colab": {
          "base_uri": "https://localhost:8080/"
        },
        "id": "rGJDvOkGzzGl",
        "outputId": "6fc6d480-3607-4d23-e0d7-1f9b557d2887"
      },
      "outputs": [
        {
          "data": {
            "text/plain": [
              "array([False, False, False, False, False, False, False, False, False,\n",
              "       False, False, False, False, False, False, False, False, False,\n",
              "       False, False, False, False, False, False, False, False, False,\n",
              "       False, False, False, False, False, False, False, False, False,\n",
              "       False, False, False, False, False, False, False, False, False,\n",
              "       False, False, False, False, False, False, False, False, False,\n",
              "       False, False, False, False, False, False, False, False, False,\n",
              "       False, False, False, False, False, False, False, False, False,\n",
              "       False, False, False, False, False, False, False, False, False,\n",
              "       False, False, False, False, False, False, False, False, False,\n",
              "       False, False, False, False, False, False, False, False, False,\n",
              "       False, False, False, False, False,  True, False, False, False,\n",
              "       False, False, False, False, False, False, False, False, False,\n",
              "       False, False, False, False, False, False, False, False, False,\n",
              "       False, False, False, False, False, False, False, False, False,\n",
              "       False, False, False, False, False, False, False, False, False,\n",
              "       False, False, False, False, False, False, False, False, False,\n",
              "        True, False, False, False, False, False, False, False, False,\n",
              "       False, False, False, False, False, False, False, False, False,\n",
              "       False, False, False, False, False, False, False, False, False,\n",
              "       False, False, False, False, False, False, False, False, False,\n",
              "       False, False, False, False, False, False, False, False, False,\n",
              "       False, False, False, False, False, False, False, False, False,\n",
              "       False, False, False, False, False, False, False, False, False,\n",
              "       False, False, False, False, False, False, False, False, False,\n",
              "       False, False, False, False, False, False, False, False, False,\n",
              "       False, False, False, False, False, False, False, False, False,\n",
              "       False, False, False, False,  True, False, False, False, False,\n",
              "       False, False, False, False, False, False, False, False, False,\n",
              "       False, False, False, False, False, False, False, False, False,\n",
              "       False, False, False, False, False, False, False, False, False,\n",
              "       False, False, False, False, False, False,  True, False, False,\n",
              "       False, False, False, False, False, False, False,  True, False,\n",
              "       False, False, False, False, False, False, False, False, False,\n",
              "       False,  True, False, False, False, False, False, False, False,\n",
              "       False, False, False, False, False, False, False, False, False,\n",
              "       False, False, False, False, False, False, False, False, False,\n",
              "       False, False, False, False, False, False, False, False, False,\n",
              "       False, False, False, False, False, False, False, False, False,\n",
              "       False, False, False, False, False, False, False, False, False,\n",
              "       False, False, False, False, False, False, False, False, False,\n",
              "       False, False, False, False, False, False, False, False, False,\n",
              "       False, False, False, False,  True, False, False, False, False,\n",
              "       False, False, False, False, False, False,  True, False, False,\n",
              "       False, False, False, False, False, False, False, False, False,\n",
              "       False, False, False, False, False, False, False, False, False,\n",
              "       False, False, False, False, False, False, False, False, False,\n",
              "       False,  True, False, False, False, False, False, False, False,\n",
              "       False, False, False, False, False, False, False, False, False,\n",
              "       False, False, False, False, False, False, False, False, False,\n",
              "       False, False, False, False, False, False, False, False, False,\n",
              "       False, False, False, False, False, False, False, False, False,\n",
              "       False, False, False, False, False, False, False, False, False,\n",
              "       False, False, False, False, False, False, False, False, False,\n",
              "       False, False, False, False, False, False, False, False, False,\n",
              "       False, False, False, False, False, False, False, False, False,\n",
              "       False, False, False, False, False, False, False, False, False,\n",
              "       False, False, False,  True, False, False, False, False, False,\n",
              "       False, False, False, False, False, False, False, False, False,\n",
              "       False, False, False, False, False, False, False, False, False,\n",
              "       False, False, False, False, False, False, False, False, False,\n",
              "       False])"
            ]
          },
          "execution_count": 20,
          "metadata": {},
          "output_type": "execute_result"
        }
      ],
      "source": [
        "# Analyzing the models\n",
        "\n",
        "y_pred = logreg.predict(x_test)\n",
        "\n",
        "y_pred"
      ]
    },
    {
      "cell_type": "code",
      "execution_count": 21,
      "metadata": {
        "colab": {
          "base_uri": "https://localhost:8080/",
          "height": 447
        },
        "id": "G1wNRpu00Jvb",
        "outputId": "f5bdf65c-ade1-4bac-ba93-df4794b9baea"
      },
      "outputs": [
        {
          "data": {
            "text/plain": [
              "<Axes: >"
            ]
          },
          "execution_count": 21,
          "metadata": {},
          "output_type": "execute_result"
        },
        {
          "data": {
            "image/png": "[encoded data removed]",
            "text/plain": [
              "<Figure size 640x480 with 2 Axes>"
            ]
          },
          "metadata": {},
          "output_type": "display_data"
        }
      ],
      "source": [
        "from sklearn.metrics import confusion_matrix\n",
        "\n",
        "cm = confusion_matrix(y_test, y_pred)\n",
        "\n",
        "cm_matrix = pd.DataFrame(data=cm, columns=['Actual Positive:1', 'Actual Negative:0'],\n",
        "                                \tindex=['Predict Positive:1', 'Predict Negative:0'])\n",
        "\n",
        "sns.heatmap(cm_matrix, annot=True, fmt='d', cmap='YlGnBu')"
      ]
    },
    {
      "cell_type": "code",
      "execution_count": 22,
      "metadata": {
        "colab": {
          "base_uri": "https://localhost:8080/"
        },
        "id": "3EBNP25F06P9",
        "outputId": "64e82283-c42d-4033-93e0-e37829d11d7f"
      },
      "outputs": [
        {
          "name": "stdout",
          "output_type": "stream",
          "text": [
            "              precision    recall  f1-score   support\n",
            "\n",
            "       False       0.98      1.00      0.99       528\n",
            "        True       1.00      0.45      0.62        22\n",
            "\n",
            "    accuracy                           0.98       550\n",
            "   macro avg       0.99      0.73      0.81       550\n",
            "weighted avg       0.98      0.98      0.97       550\n",
            "\n"
          ]
        }
      ],
      "source": [
        "from sklearn.metrics import classification_report\n",
        "\n",
        "print(classification_report(y_test, y_pred))"
      ]
    },
    {
      "cell_type": "markdown",
      "metadata": {
        "id": "vSiZe26_09eh"
      },
      "source": [
        "#### Precision\n",
        "The percentage of correctly predicted positive outcomes out of all the predicted positive outcomes. The ratio of true positives to the sum of true and false positives.\n",
        "\n",
        "#### Recall\n",
        "The percentage of correctly predicted positive outcomes out of all the actual positive outcomes. Can be given as the ratio of true positives to the sum of true positives and false negativies. Recall is also called sensitivity. TP/ (TP + FN)\n",
        "\n",
        "#### f1-score\n",
        "The weighted harmonic mean of precision and recall. The best score would be 1.0 and the 0.0. Always lower than accuracy measures.\n",
        "\n",
        "#### Support\n",
        "The actual number of occurances of the class in our dataset"
      ]
    },
    {
      "cell_type": "markdown",
      "metadata": {
        "id": "CdQt_gR_1Jw-"
      },
      "source": [
        "# **Testing Other Models**"
      ]
    },
    {
      "cell_type": "code",
      "execution_count": 23,
      "metadata": {
        "colab": {
          "base_uri": "https://localhost:8080/"
        },
        "id": "m1jeZS6P1QVM",
        "outputId": "d564a59e-3885-40f7-9bb0-3d66e6d9dee4"
      },
      "outputs": [
        {
          "name": "stdout",
          "output_type": "stream",
          "text": [
            "Training set score: 0.9842424242424243\n",
            "Test set score: 0.9872727272727273\n"
          ]
        }
      ],
      "source": [
        "# Decision Tree Model\n",
        "\n",
        "from sklearn.tree import DecisionTreeClassifier\n",
        "\n",
        "model_dtree = DecisionTreeClassifier(criterion = 'gini', max_depth = 2, random_state = 1)\n",
        "\n",
        "model_dtree.fit(x_train, y_train)\n",
        "\n",
        "print('Training set score:', model_dtree.score(x_train, y_train))\n",
        "\n",
        "print('Test set score:', model_dtree.score(x_test, y_test))"
      ]
    },
    {
      "cell_type": "code",
      "execution_count": 24,
      "metadata": {
        "colab": {
          "base_uri": "https://localhost:8080/",
          "height": 447
        },
        "id": "tk4GhN441lGK",
        "outputId": "75397368-9428-4c60-ec79-af240ea9415a"
      },
      "outputs": [
        {
          "data": {
            "text/plain": [
              "<Axes: >"
            ]
          },
          "execution_count": 24,
          "metadata": {},
          "output_type": "execute_result"
        },
        {
          "data": {
            "image/png": "[encoded data removed]",
            "text/plain": [
              "<Figure size 640x480 with 2 Axes>"
            ]
          },
          "metadata": {},
          "output_type": "display_data"
        }
      ],
      "source": [
        "y_pred_test_dtree = model_dtree.predict(x_test)\n",
        "\n",
        "cm2 = confusion_matrix(y_test, y_pred_test_dtree)\n",
        "\n",
        "cm2_matrix = pd.DataFrame(data=cm2, columns=['Actual Positive:1', 'Actual Negative:0'],\n",
        "                                \tindex=['Predict Positive:1', 'Predict Negative:0'])\n",
        "\n",
        "sns.heatmap(cm2_matrix, annot=True, fmt='d', cmap='YlGnBu')"
      ]
    },
    {
      "cell_type": "code",
      "execution_count": 25,
      "metadata": {
        "colab": {
          "base_uri": "https://localhost:8080/"
        },
        "id": "2h1ga6e11uE-",
        "outputId": "92252adb-a7d7-41a9-fd95-4a49c8c15988"
      },
      "outputs": [
        {
          "name": "stderr",
          "output_type": "stream",
          "text": [
            "c:\\Users\\raorj\\AppData\\Local\\Programs\\Python\\Python39\\lib\\site-packages\\sklearn\\base.py:1474: DataConversionWarning: A column-vector y was passed when a 1d array was expected. Please change the shape of y to (n_samples,), for example using ravel().\n",
            "  return fit_method(estimator, *args, **kwargs)\n"
          ]
        },
        {
          "name": "stdout",
          "output_type": "stream",
          "text": [
            "Training set score: 1.0\n",
            "Test set score: 0.9945454545454545\n"
          ]
        }
      ],
      "source": [
        "# Random Forest Model\n",
        "from sklearn.ensemble import RandomForestClassifier\n",
        "\n",
        "model_rf = RandomForestClassifier(random_state=0)\n",
        "\n",
        "model_rf.fit(x_train, y_train)\n",
        "\n",
        "print('Training set score:', model_rf.score(x_train, y_train))\n",
        "\n",
        "print('Test set score:', model_rf.score(x_test, y_test))"
      ]
    },
    {
      "cell_type": "code",
      "execution_count": 26,
      "metadata": {
        "colab": {
          "base_uri": "https://localhost:8080/",
          "height": 447
        },
        "id": "w803Qfxz3_bu",
        "outputId": "1d9d644b-70ad-4c8f-83bb-4d7f2e9a2f7d"
      },
      "outputs": [
        {
          "data": {
            "text/plain": [
              "<Axes: >"
            ]
          },
          "execution_count": 26,
          "metadata": {},
          "output_type": "execute_result"
        },
        {
          "data": {
            "image/png": "[encoded data removed]",
            "text/plain": [
              "<Figure size 640x480 with 2 Axes>"
            ]
          },
          "metadata": {},
          "output_type": "display_data"
        }
      ],
      "source": [
        "y_pred_test_rf = model_rf.predict(x_test)\n",
        "\n",
        "cm2 = confusion_matrix(y_test, y_pred_test_rf)\n",
        "\n",
        "cm2_matrix = pd.DataFrame(data=cm2, columns=['Actual Positive:1', 'Actual Negative:0'],\n",
        "                                \tindex=['Predict Positive:1', 'Predict Negative:0'])\n",
        "\n",
        "sns.heatmap(cm2_matrix, annot=True, fmt='d', cmap='YlGnBu')"
      ]
    },
    {
      "cell_type": "markdown",
      "metadata": {
        "id": "sZGqZJAm5c5Q"
      },
      "source": [
        "# **Creating a Function For the Machine Learning Algorithms**"
      ]
    },
    {
      "cell_type": "code",
      "execution_count": 27,
      "metadata": {
        "id": "wy-R60eS5wTg"
      },
      "outputs": [],
      "source": [
        "# x can be 'Logistic Regression', 'Random Forest', or 'Decision Tree'\n",
        "def machine_learning(x):\n",
        "\tif x == 'Logistic Regression':\n",
        "\t\tmodel = LogisticRegression(solver='liblinear', random_state= 42)\n",
        "\telif x == 'Random Forest':\n",
        "\t\tmodel = RandomForestClassifier(random_state=0)\n",
        "\telse:\n",
        "\t\tmodel = DecisionTreeClassifier(criterion='gini', max_depth=2, random_state=1)\n",
        "\treturn model\n"
      ]
    },
    {
      "cell_type": "code",
      "execution_count": 28,
      "metadata": {
        "id": "5SeA9VGO7T4l"
      },
      "outputs": [],
      "source": [
        "model = machine_learning('Logistic Regression')\n"
      ]
    },
    {
      "cell_type": "code",
      "execution_count": 29,
      "metadata": {
        "colab": {
          "base_uri": "https://localhost:8080/",
          "height": 256
        },
        "id": "XkQZ7sf54Nmr",
        "outputId": "66198ec4-93e1-45f9-e92f-3dd88f1d04a8"
      },
      "outputs": [
        {
          "data": {
            "text/html": [
              "<div>\n",
              "<style scoped>\n",
              "    .dataframe tbody tr th:only-of-type {\n",
              "        vertical-align: middle;\n",
              "    }\n",
              "\n",
              "    .dataframe tbody tr th {\n",
              "        vertical-align: top;\n",
              "    }\n",
              "\n",
              "    .dataframe thead th {\n",
              "        text-align: right;\n",
              "    }\n",
              "</style>\n",
              "<table border=\"1\" class=\"dataframe\">\n",
              "  <thead>\n",
              "    <tr style=\"text-align: right;\">\n",
              "      <th></th>\n",
              "      <th>N</th>\n",
              "      <th>P</th>\n",
              "      <th>K</th>\n",
              "      <th>temperature</th>\n",
              "      <th>humidity</th>\n",
              "      <th>ph</th>\n",
              "      <th>rainfall</th>\n",
              "      <th>Ratio N</th>\n",
              "      <th>Ratio P</th>\n",
              "      <th>Ratio K</th>\n",
              "      <th>...</th>\n",
              "      <th>label_mango</th>\n",
              "      <th>label_mothbeans</th>\n",
              "      <th>label_mungbean</th>\n",
              "      <th>label_muskmelon</th>\n",
              "      <th>label_orange</th>\n",
              "      <th>label_papaya</th>\n",
              "      <th>label_pigeonpeas</th>\n",
              "      <th>label_pomegranate</th>\n",
              "      <th>label_rice</th>\n",
              "      <th>label_watermelon</th>\n",
              "    </tr>\n",
              "  </thead>\n",
              "  <tbody>\n",
              "    <tr>\n",
              "      <th>0</th>\n",
              "      <td>90</td>\n",
              "      <td>42</td>\n",
              "      <td>43</td>\n",
              "      <td>20.879744</td>\n",
              "      <td>82.002744</td>\n",
              "      <td>6.502985</td>\n",
              "      <td>202.935536</td>\n",
              "      <td>0.514286</td>\n",
              "      <td>0.240000</td>\n",
              "      <td>0.245714</td>\n",
              "      <td>...</td>\n",
              "      <td>False</td>\n",
              "      <td>False</td>\n",
              "      <td>False</td>\n",
              "      <td>False</td>\n",
              "      <td>False</td>\n",
              "      <td>False</td>\n",
              "      <td>False</td>\n",
              "      <td>False</td>\n",
              "      <td>True</td>\n",
              "      <td>False</td>\n",
              "    </tr>\n",
              "    <tr>\n",
              "      <th>1</th>\n",
              "      <td>85</td>\n",
              "      <td>58</td>\n",
              "      <td>41</td>\n",
              "      <td>21.770462</td>\n",
              "      <td>80.319644</td>\n",
              "      <td>7.038096</td>\n",
              "      <td>226.655537</td>\n",
              "      <td>0.461957</td>\n",
              "      <td>0.315217</td>\n",
              "      <td>0.222826</td>\n",
              "      <td>...</td>\n",
              "      <td>False</td>\n",
              "      <td>False</td>\n",
              "      <td>False</td>\n",
              "      <td>False</td>\n",
              "      <td>False</td>\n",
              "      <td>False</td>\n",
              "      <td>False</td>\n",
              "      <td>False</td>\n",
              "      <td>True</td>\n",
              "      <td>False</td>\n",
              "    </tr>\n",
              "    <tr>\n",
              "      <th>2</th>\n",
              "      <td>60</td>\n",
              "      <td>55</td>\n",
              "      <td>44</td>\n",
              "      <td>23.004459</td>\n",
              "      <td>82.320763</td>\n",
              "      <td>7.840207</td>\n",
              "      <td>263.964248</td>\n",
              "      <td>0.377358</td>\n",
              "      <td>0.345912</td>\n",
              "      <td>0.276730</td>\n",
              "      <td>...</td>\n",
              "      <td>False</td>\n",
              "      <td>False</td>\n",
              "      <td>False</td>\n",
              "      <td>False</td>\n",
              "      <td>False</td>\n",
              "      <td>False</td>\n",
              "      <td>False</td>\n",
              "      <td>False</td>\n",
              "      <td>True</td>\n",
              "      <td>False</td>\n",
              "    </tr>\n",
              "    <tr>\n",
              "      <th>3</th>\n",
              "      <td>74</td>\n",
              "      <td>35</td>\n",
              "      <td>40</td>\n",
              "      <td>26.491096</td>\n",
              "      <td>80.158363</td>\n",
              "      <td>6.980401</td>\n",
              "      <td>242.864034</td>\n",
              "      <td>0.496644</td>\n",
              "      <td>0.234899</td>\n",
              "      <td>0.268456</td>\n",
              "      <td>...</td>\n",
              "      <td>False</td>\n",
              "      <td>False</td>\n",
              "      <td>False</td>\n",
              "      <td>False</td>\n",
              "      <td>False</td>\n",
              "      <td>False</td>\n",
              "      <td>False</td>\n",
              "      <td>False</td>\n",
              "      <td>True</td>\n",
              "      <td>False</td>\n",
              "    </tr>\n",
              "    <tr>\n",
              "      <th>4</th>\n",
              "      <td>78</td>\n",
              "      <td>42</td>\n",
              "      <td>42</td>\n",
              "      <td>20.130175</td>\n",
              "      <td>81.604873</td>\n",
              "      <td>7.628473</td>\n",
              "      <td>262.717340</td>\n",
              "      <td>0.481481</td>\n",
              "      <td>0.259259</td>\n",
              "      <td>0.259259</td>\n",
              "      <td>...</td>\n",
              "      <td>False</td>\n",
              "      <td>False</td>\n",
              "      <td>False</td>\n",
              "      <td>False</td>\n",
              "      <td>False</td>\n",
              "      <td>False</td>\n",
              "      <td>False</td>\n",
              "      <td>False</td>\n",
              "      <td>True</td>\n",
              "      <td>False</td>\n",
              "    </tr>\n",
              "  </tbody>\n",
              "</table>\n",
              "<p>5 rows × 32 columns</p>\n",
              "</div>"
            ],
            "text/plain": [
              "    N   P   K  temperature   humidity        ph    rainfall   Ratio N  \\\n",
              "0  90  42  43    20.879744  82.002744  6.502985  202.935536  0.514286   \n",
              "1  85  58  41    21.770462  80.319644  7.038096  226.655537  0.461957   \n",
              "2  60  55  44    23.004459  82.320763  7.840207  263.964248  0.377358   \n",
              "3  74  35  40    26.491096  80.158363  6.980401  242.864034  0.496644   \n",
              "4  78  42  42    20.130175  81.604873  7.628473  262.717340  0.481481   \n",
              "\n",
              "    Ratio P   Ratio K  ...  label_mango  label_mothbeans  label_mungbean  \\\n",
              "0  0.240000  0.245714  ...        False            False           False   \n",
              "1  0.315217  0.222826  ...        False            False           False   \n",
              "2  0.345912  0.276730  ...        False            False           False   \n",
              "3  0.234899  0.268456  ...        False            False           False   \n",
              "4  0.259259  0.259259  ...        False            False           False   \n",
              "\n",
              "   label_muskmelon  label_orange  label_papaya  label_pigeonpeas  \\\n",
              "0            False         False         False             False   \n",
              "1            False         False         False             False   \n",
              "2            False         False         False             False   \n",
              "3            False         False         False             False   \n",
              "4            False         False         False             False   \n",
              "\n",
              "   label_pomegranate  label_rice  label_watermelon  \n",
              "0              False        True             False  \n",
              "1              False        True             False  \n",
              "2              False        True             False  \n",
              "3              False        True             False  \n",
              "4              False        True             False  \n",
              "\n",
              "[5 rows x 32 columns]"
            ]
          },
          "execution_count": 29,
          "metadata": {},
          "output_type": "execute_result"
        }
      ],
      "source": [
        "#Predicting which one will be a yes\n",
        "\n",
        "data_encode_dropped = data_encode.drop(['N', 'P', 'K', 'temperature', 'humidity', 'ph', 'rainfall', 'Ratio N', 'Ratio P', 'Ratio K'], axis = 1).head(5)\n",
        "\n",
        "data_encode.head()"
      ]
    },
    {
      "cell_type": "code",
      "execution_count": 30,
      "metadata": {
        "colab": {
          "base_uri": "https://localhost:8080/"
        },
        "id": "ccU8ftBI8PVG",
        "outputId": "98ce2210-c1c2-49eb-f66a-0c27ea6a44c4"
      },
      "outputs": [
        {
          "data": {
            "text/plain": [
              "Index(['label_apple', 'label_banana', 'label_blackgram', 'label_chickpea',\n",
              "       'label_coconut', 'label_coffee', 'label_cotton', 'label_grapes',\n",
              "       'label_jute', 'label_kidneybeans', 'label_lentil', 'label_maize',\n",
              "       'label_mango', 'label_mothbeans', 'label_mungbean', 'label_muskmelon',\n",
              "       'label_orange', 'label_papaya', 'label_pigeonpeas', 'label_pomegranate',\n",
              "       'label_rice', 'label_watermelon'],\n",
              "      dtype='object')"
            ]
          },
          "execution_count": 30,
          "metadata": {},
          "output_type": "execute_result"
        }
      ],
      "source": [
        "encoded_labels = data_encode_dropped.columns\n",
        "encoded_labels"
      ]
    },
    {
      "cell_type": "code",
      "execution_count": 31,
      "metadata": {
        "id": "4P9ze7FT7vy5"
      },
      "outputs": [],
      "source": [
        "def running_a_model_for_a_crop(label_crop):\n",
        "  y = data_encode[label_crop]\n",
        "  x = data_encode[['temperature', 'humidity', 'ph', 'rainfall', 'Ratio N', 'Ratio P', 'Ratio K']]\n",
        "\n",
        "  x_train, x_test, y_train, y_test = train_test_split(x, y, train_size = 0.75, random_state = 42)\n",
        "\n",
        "  scaler = MinMaxScaler()\n",
        "\n",
        "  x_train = scaler.fit_transform(x_train)\n",
        "\n",
        "  x_test = scaler.transform(x_test)\n",
        "\n",
        "  return x_train, x_test, y_train, y_test\n",
        "\n",
        "\n",
        "\n"
      ]
    },
    {
      "cell_type": "code",
      "execution_count": 32,
      "metadata": {
        "colab": {
          "base_uri": "https://localhost:8080/"
        },
        "id": "7Y3lfjct9UVQ",
        "outputId": "b8ddcd8f-77fe-464a-8865-1483678b6ddb"
      },
      "outputs": [
        {
          "data": {
            "text/plain": [
              "((1650, 7), (550, 7), (1650,), (550,))"
            ]
          },
          "execution_count": 32,
          "metadata": {},
          "output_type": "execute_result"
        }
      ],
      "source": [
        "x_train, x_test, y_train, y_test = running_a_model_for_a_crop('label_cotton')\n",
        "\n",
        "x_train.shape, x_test.shape, y_train.shape, y_test.shape"
      ]
    },
    {
      "cell_type": "code",
      "execution_count": 33,
      "metadata": {
        "colab": {
          "base_uri": "https://localhost:8080/"
        },
        "id": "KJllzDej9qD-",
        "outputId": "16c6232e-fc21-4b83-fca7-4d835535c23f"
      },
      "outputs": [
        {
          "data": {
            "text/plain": [
              "0.9654545454545455"
            ]
          },
          "execution_count": 33,
          "metadata": {},
          "output_type": "execute_result"
        }
      ],
      "source": [
        "model.fit(x_train, y_train)\n",
        "\n",
        "model.score(x_test, y_test)\n"
      ]
    },
    {
      "cell_type": "code",
      "execution_count": 34,
      "metadata": {
        "colab": {
          "base_uri": "https://localhost:8080/"
        },
        "id": "AeTk8j_eGllq",
        "outputId": "1b3e76b1-614e-4685-b1c1-01f88d50870d"
      },
      "outputs": [
        {
          "data": {
            "text/plain": [
              "array([[0.59306878, 0.93872187, 0.41682113, ..., 0.8323087 , 0.094464  ,\n",
              "        0.26131474],\n",
              "       [0.49795587, 0.84296447, 0.42837304, ..., 0.84873757, 0.02895965,\n",
              "        0.3111153 ],\n",
              "       [0.99096186, 0.92264534, 0.5344578 , ..., 0.47190013, 0.42362242,\n",
              "        0.26553218],\n",
              "       ...,\n",
              "       [0.34113719, 0.01172532, 0.55969772, ..., 0.2304597 , 0.42679954,\n",
              "        0.48350343],\n",
              "       [0.45242078, 0.49230787, 0.58837645, ..., 0.86611806, 0.18887083,\n",
              "        0.13689269],\n",
              "       [0.52109732, 0.87252157, 0.61085678, ..., 0.59077152, 0.3725925 ,\n",
              "        0.20718456]])"
            ]
          },
          "execution_count": 34,
          "metadata": {},
          "output_type": "execute_result"
        }
      ],
      "source": [
        "x_test"
      ]
    },
    {
      "cell_type": "code",
      "execution_count": 35,
      "metadata": {
        "colab": {
          "base_uri": "https://localhost:8080/"
        },
        "id": "8-xXnWvN-usL",
        "outputId": "fa97a191-7bee-4239-a108-5477296614f6"
      },
      "outputs": [
        {
          "data": {
            "text/plain": [
              "Index(['label_apple', 'label_banana', 'label_blackgram', 'label_chickpea',\n",
              "       'label_coconut', 'label_coffee', 'label_cotton', 'label_grapes',\n",
              "       'label_jute', 'label_kidneybeans', 'label_lentil', 'label_maize',\n",
              "       'label_mango', 'label_mothbeans', 'label_mungbean', 'label_muskmelon',\n",
              "       'label_orange', 'label_papaya', 'label_pigeonpeas', 'label_pomegranate',\n",
              "       'label_rice', 'label_watermelon'],\n",
              "      dtype='object')"
            ]
          },
          "execution_count": 35,
          "metadata": {},
          "output_type": "execute_result"
        }
      ],
      "source": [
        "encoded_labels"
      ]
    },
    {
      "cell_type": "code",
      "execution_count": 36,
      "metadata": {
        "id": "EcTLsMEX-S7k"
      },
      "outputs": [],
      "source": [
        "#Finding which crop you can grow\n",
        "\n",
        "def what_can_you_grow(x_data, model_choice):\n",
        "  values = np.array([])\n",
        "  scores = np.array([])\n",
        "  for i in encoded_labels:\n",
        "    x_train, x_test, y_train, y_test = running_a_model_for_a_crop(i)\n",
        "    model_choice.fit(x_train, y_train)\n",
        "    score = model_choice.score(x_test, y_test)\n",
        "    scores = np.append(scores, score)\n",
        "    pred = model_choice.predict(x_data)\n",
        "    values = np.append(values, pred)\n",
        "  return values, scores\n",
        "\n",
        "\n"
      ]
    },
    {
      "cell_type": "code",
      "execution_count": 37,
      "metadata": {
        "id": "BT68yaPiA8za"
      },
      "outputs": [],
      "source": [
        "# Making x data\n",
        "\n",
        "ratio_n = 11/(0.0004+11+3.25)\n",
        "ratio_p = 0.0004/(0.0004+11+3.25)\n",
        "ratio_k = 3.25/(0.0004+11+3.25)\n",
        "\n",
        "x_data = np.array([[19.74, 47.15, 8.6, 132.48, ratio_n, ratio_p, ratio_k]])\n",
        "\n"
      ]
    },
    {
      "cell_type": "code",
      "execution_count": 38,
      "metadata": {
        "colab": {
          "base_uri": "https://localhost:8080/"
        },
        "id": "6tAf43OTHBoV",
        "outputId": "bb74c7c3-c49d-4737-d252-67ee379e9030"
      },
      "outputs": [
        {
          "data": {
            "text/plain": [
              "array([[1.97400000e+01, 4.71500000e+01, 8.60000000e+00, 1.32480000e+02,\n",
              "        7.71908157e-01, 2.80693875e-05, 2.28063774e-01]])"
            ]
          },
          "execution_count": 38,
          "metadata": {},
          "output_type": "execute_result"
        }
      ],
      "source": [
        "from sklearn.preprocessing import MinMaxScaler\n",
        "\n",
        "scaler = MinMaxScaler().fit(x_train)\n",
        "\n",
        "x_data = scaler.transform(x_data)\n",
        "\n",
        "x_data"
      ]
    },
    {
      "cell_type": "code",
      "execution_count": 39,
      "metadata": {
        "id": "Jk0LZA6ZIKev"
      },
      "outputs": [],
      "source": [
        "values, scores = what_can_you_grow(x_data, machine_learning('Random Forest'))"
      ]
    },
    {
      "cell_type": "code",
      "execution_count": 40,
      "metadata": {
        "colab": {
          "base_uri": "https://localhost:8080/"
        },
        "id": "7etuMKbWNjS9",
        "outputId": "1e28b7bf-de83-4521-b209-763a3f3e3aa1"
      },
      "outputs": [
        {
          "data": {
            "text/plain": [
              "array([0., 0., 0., 0., 1., 0., 0., 0., 0., 0., 0., 0., 0., 0., 0., 0., 0.,\n",
              "       1., 0., 0., 0., 0.])"
            ]
          },
          "execution_count": 40,
          "metadata": {},
          "output_type": "execute_result"
        }
      ],
      "source": [
        "values"
      ]
    },
    {
      "cell_type": "code",
      "execution_count": 41,
      "metadata": {
        "colab": {
          "base_uri": "https://localhost:8080/",
          "height": 206
        },
        "id": "An2PkrjuNoN_",
        "outputId": "927a2d23-34d1-4d25-fb41-f9599ddbcf42"
      },
      "outputs": [
        {
          "data": {
            "text/html": [
              "<div>\n",
              "<style scoped>\n",
              "    .dataframe tbody tr th:only-of-type {\n",
              "        vertical-align: middle;\n",
              "    }\n",
              "\n",
              "    .dataframe tbody tr th {\n",
              "        vertical-align: top;\n",
              "    }\n",
              "\n",
              "    .dataframe thead th {\n",
              "        text-align: right;\n",
              "    }\n",
              "</style>\n",
              "<table border=\"1\" class=\"dataframe\">\n",
              "  <thead>\n",
              "    <tr style=\"text-align: right;\">\n",
              "      <th></th>\n",
              "      <th>Crop</th>\n",
              "      <th>Can Grow</th>\n",
              "      <th>Accuracy Score</th>\n",
              "    </tr>\n",
              "  </thead>\n",
              "  <tbody>\n",
              "    <tr>\n",
              "      <th>0</th>\n",
              "      <td>label_apple</td>\n",
              "      <td>0.0</td>\n",
              "      <td>0.998182</td>\n",
              "    </tr>\n",
              "    <tr>\n",
              "      <th>1</th>\n",
              "      <td>label_banana</td>\n",
              "      <td>0.0</td>\n",
              "      <td>1.000000</td>\n",
              "    </tr>\n",
              "    <tr>\n",
              "      <th>2</th>\n",
              "      <td>label_blackgram</td>\n",
              "      <td>0.0</td>\n",
              "      <td>0.992727</td>\n",
              "    </tr>\n",
              "    <tr>\n",
              "      <th>3</th>\n",
              "      <td>label_chickpea</td>\n",
              "      <td>0.0</td>\n",
              "      <td>1.000000</td>\n",
              "    </tr>\n",
              "    <tr>\n",
              "      <th>4</th>\n",
              "      <td>label_coconut</td>\n",
              "      <td>1.0</td>\n",
              "      <td>1.000000</td>\n",
              "    </tr>\n",
              "  </tbody>\n",
              "</table>\n",
              "</div>"
            ],
            "text/plain": [
              "              Crop  Can Grow  Accuracy Score\n",
              "0      label_apple       0.0        0.998182\n",
              "1     label_banana       0.0        1.000000\n",
              "2  label_blackgram       0.0        0.992727\n",
              "3   label_chickpea       0.0        1.000000\n",
              "4    label_coconut       1.0        1.000000"
            ]
          },
          "execution_count": 41,
          "metadata": {},
          "output_type": "execute_result"
        }
      ],
      "source": [
        "# Make a dataset of values\n",
        "\n",
        "crops_we_can_grow = pd.DataFrame()\n",
        "\n",
        "crops_we_can_grow['Crop'] = encoded_labels\n",
        "crops_we_can_grow['Can Grow'] = values\n",
        "crops_we_can_grow['Accuracy Score'] = scores\n",
        "\n",
        "crops_we_can_grow.head()"
      ]
    },
    {
      "cell_type": "code",
      "execution_count": 42,
      "metadata": {
        "colab": {
          "base_uri": "https://localhost:8080/",
          "height": 447
        },
        "id": "28IMxSxRPjpK",
        "outputId": "5ca41dc0-ae63-4184-c31c-7e9b5dd92471"
      },
      "outputs": [
        {
          "data": {
            "text/plain": [
              "<BarContainer object of 22 artists>"
            ]
          },
          "execution_count": 42,
          "metadata": {},
          "output_type": "execute_result"
        },
        {
          "data": {
            "image/png": "[encoded data removed]",
            "text/plain": [
              "<Figure size 640x480 with 1 Axes>"
            ]
          },
          "metadata": {},
          "output_type": "display_data"
        }
      ],
      "source": [
        "plt.barh(crops_we_can_grow['Crop'], crops_we_can_grow['Can Grow'])"
      ]
    }
  ],
  "metadata": {
    "colab": {
      "provenance": []
    },
    "kernelspec": {
      "display_name": "Python 3",
      "name": "python3"
    },
    "language_info": {
      "codemirror_mode": {
        "name": "ipython",
        "version": 3
      },
      "file_extension": ".py",
      "mimetype": "text/x-python",
      "name": "python",
      "nbconvert_exporter": "python",
      "pygments_lexer": "ipython3",
      "version": "3.9.7"
    }
  },
  "nbformat": 4,
  "nbformat_minor": 0
}
